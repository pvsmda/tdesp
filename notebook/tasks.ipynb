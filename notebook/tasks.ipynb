{
 "cells": [
  {
   "cell_type": "markdown",
   "id": "54ae6d7c",
   "metadata": {},
   "source": [
    "## 1) Faça um programa que mostra a mensagem hello world!"
   ]
  },
  {
   "cell_type": "code",
   "execution_count": 1,
   "id": "0e40ae2a",
   "metadata": {},
   "outputs": [
    {
     "name": "stdout",
     "output_type": "stream",
     "text": [
      "hello world\n"
     ]
    }
   ],
   "source": [
    "a = \"hello world\"\n",
    "print(a)"
   ]
  },
  {
   "cell_type": "markdown",
   "id": "51dcd386",
   "metadata": {},
   "source": [
    "## 2) Faça um programa que peça dois números e então mostre a mensagem \"O número informado foi (número)"
   ]
  },
  {
   "cell_type": "code",
   "execution_count": 2,
   "id": "ef0262ed",
   "metadata": {},
   "outputs": [
    {
     "name": "stdout",
     "output_type": "stream",
     "text": [
      "Informe um numero:5\n",
      "O número informado foi: 5\n"
     ]
    }
   ],
   "source": [
    "prompt = input(\"Informe um numero:\")\n",
    "print('O número informado foi:', prompt)"
   ]
  },
  {
   "cell_type": "markdown",
   "id": "764c0cfb",
   "metadata": {},
   "source": [
    "## 3) Faça um programa que peça dois números e imprima a soma"
   ]
  },
  {
   "cell_type": "code",
   "execution_count": 3,
   "id": "d982b075",
   "metadata": {},
   "outputs": [
    {
     "name": "stdout",
     "output_type": "stream",
     "text": [
      "Informe um numero: 2\n",
      "Informe um numero: 5\n",
      "7\n"
     ]
    }
   ],
   "source": [
    "prompt_1 = int(input('Informe um numero: '))\n",
    "prompt_2 = int(input('Informe um numero: '))\n",
    "\n",
    "print(prompt_1 + prompt_2)"
   ]
  },
  {
   "cell_type": "markdown",
   "id": "44892abb",
   "metadata": {},
   "source": [
    "## 4) Faça um programa que peça as 4 notas bimestrais e mostre a média"
   ]
  },
  {
   "cell_type": "code",
   "execution_count": 4,
   "id": "d4d6d1f1",
   "metadata": {},
   "outputs": [
    {
     "name": "stdout",
     "output_type": "stream",
     "text": [
      "Nota_1:10\n",
      "Nota_2:5\n",
      "Nota_3:8\n",
      "Nota_4:9\n",
      "8.0\n"
     ]
    }
   ],
   "source": [
    "media_1 = float(input('Nota_1:'))\n",
    "media_2 = float(input('Nota_2:'))\n",
    "media_3 = float(input('Nota_3:'))\n",
    "media_4 = float(input('Nota_4:'))\n",
    "\n",
    "media = (media_1 + media_2 + media_3 + media_4)\n",
    "print(media/4)"
   ]
  },
  {
   "cell_type": "markdown",
   "id": "c0c71ae6",
   "metadata": {},
   "source": [
    "## 5) Faça um programa que converta metros em cm"
   ]
  },
  {
   "cell_type": "code",
   "execution_count": 5,
   "id": "3f572efe",
   "metadata": {},
   "outputs": [
    {
     "name": "stdout",
     "output_type": "stream",
     "text": [
      "Altura em metros:1.90\n",
      "190.0 cm\n"
     ]
    }
   ],
   "source": [
    "height_metros = float(input(\"Altura em metros:\"))\n",
    "print(height_metros * 100,'cm')\n"
   ]
  },
  {
   "cell_type": "markdown",
   "id": "478e3a85",
   "metadata": {},
   "source": [
    "<h1 align='center'>AULA 02</h1>"
   ]
  },
  {
   "cell_type": "markdown",
   "id": "5ec6c418",
   "metadata": {},
   "source": [
    "## 6) Faça um programa que peça o raio de um círculo, calcule e mostre sua área"
   ]
  },
  {
   "cell_type": "code",
   "execution_count": 6,
   "id": "4f538916",
   "metadata": {},
   "outputs": [
    {
     "name": "stdout",
     "output_type": "stream",
     "text": [
      "Digite o valor do raio:2.9\n",
      "A área do círculo é: 26.42079421669016\n"
     ]
    }
   ],
   "source": [
    "#importando math pra puder usar o PI\n",
    "import math\n",
    "#Solicitando o valor do raio do círculo\n",
    "raio =  float(input(\"Digite o valor do raio:\"))\n",
    "#formula pra calcular a área do círculo\n",
    "area = math.pi * raio**2\n",
    "#printando a área do círculo\n",
    "print(\"A área do círculo é:\",area)"
   ]
  },
  {
   "cell_type": "markdown",
   "id": "bc00e0af",
   "metadata": {},
   "source": [
    "## 7) Faça um programa que calcule a área de um quadrado, em seguida mostre o dobro desta área para o usuário"
   ]
  },
  {
   "cell_type": "code",
   "execution_count": 7,
   "id": "1ad2a125",
   "metadata": {},
   "outputs": [
    {
     "name": "stdout",
     "output_type": "stream",
     "text": [
      "Digite o valor do lado do quadrado:9\n",
      "A área do quadrado é: 81.0\n",
      "O dobro da área é: 162.0\n"
     ]
    }
   ],
   "source": [
    "lado = float(input(\"Digite o valor do lado do quadrado:\"))\n",
    "area = lado **2\n",
    "dobro_area = 2*area\n",
    "\n",
    "print(\"A área do quadrado é:\", area)\n",
    "print(\"O dobro da área é:\", dobro_area)"
   ]
  },
  {
   "cell_type": "markdown",
   "id": "a55a717a",
   "metadata": {},
   "source": [
    "## 8) Faça um programa que pergunte quanto você ganha por hora e o numero de horas trabalhadas no mês. Calcule e mostre o total do seu salário no referido mês"
   ]
  },
  {
   "cell_type": "code",
   "execution_count": 8,
   "id": "814e4569",
   "metadata": {},
   "outputs": [
    {
     "name": "stdout",
     "output_type": "stream",
     "text": [
      "Digite o valor que você ganha por hora:60\n",
      "Digite o valor de horas trabalhadas no mês:20\n",
      "1200.0\n"
     ]
    }
   ],
   "source": [
    "valor_hora = float(input(\"Digite o valor que você ganha por hora:\"))\n",
    "horas_trabalhadas = float(input(\"Digite o valor de horas trabalhadas no mês:\"))\n",
    "salario = valor_hora * horas_trabalhadas\n",
    "print(salario)"
   ]
  },
  {
   "cell_type": "markdown",
   "id": "14206465",
   "metadata": {},
   "source": [
    "## 9) Faça um programa que peça a temperatura em graus Fahrenheit, transforme e mostre a temperatura em graus Celsius."
   ]
  },
  {
   "cell_type": "code",
   "execution_count": 9,
   "id": "6dd7d9ba",
   "metadata": {},
   "outputs": [
    {
     "name": "stdout",
     "output_type": "stream",
     "text": [
      "Digite a temperatura em fahrenheit104\n",
      "A temperatura em graus celsius é: 40.0\n"
     ]
    }
   ],
   "source": [
    "fahrenheit = float(input(\"Digite a temperatura em fahrenheit\"))\n",
    "celsius = (fahrenheit - 32) * 5/9\n",
    "print(\"A temperatura em graus celsius é:\", celsius)"
   ]
  },
  {
   "cell_type": "markdown",
   "id": "337f68a2",
   "metadata": {},
   "source": [
    "## 10) Faça um programa que peça a temperatura em graus Celsius, transforme e mostre a temperatura em graus Fahrenheit."
   ]
  },
  {
   "cell_type": "code",
   "execution_count": 10,
   "id": "c9d30a13",
   "metadata": {},
   "outputs": [
    {
     "name": "stdout",
     "output_type": "stream",
     "text": [
      "Digite a temperatura em Celsius:35\n",
      "temperatura em fahrenheit: 95.0\n"
     ]
    }
   ],
   "source": [
    "celsius = float(input(\"Digite a temperatura em Celsius:\"))\n",
    "fahrenheit = (celsius * 9/5) + 32\n",
    "print(\"temperatura em fahrenheit:\", fahrenheit)"
   ]
  },
  {
   "cell_type": "markdown",
   "id": "e8df8f2d",
   "metadata": {},
   "source": [
    "## 11) Faça um programa que peça 2 números inteiros e um número real, Calcule e mostre: \n",
    "<h2>a) o produto do dobro do primeiro com metade do segundo</h2>\n",
    "\n"
   ]
  },
  {
   "cell_type": "code",
   "execution_count": 11,
   "id": "a251c41c",
   "metadata": {},
   "outputs": [
    {
     "name": "stdout",
     "output_type": "stream",
     "text": [
      "Digite um número inteiro:20\n",
      "Digite um número inteiro:20\n",
      "Digite um número real:5\n",
      "400.0\n"
     ]
    }
   ],
   "source": [
    "num_int= int(input(\"Digite um número inteiro:\"))\n",
    "num_int_2= int(input(\"Digite um número inteiro:\"))\n",
    "num_real = float(input(\"Digite um número real:\"))\n",
    "\n",
    "produto = (2*num_int) * (num_int_2/2)\n",
    "\n",
    "print(produto)"
   ]
  },
  {
   "cell_type": "markdown",
   "id": "9022d8ef",
   "metadata": {},
   "source": [
    "<h2>b) a soma do triplo do primeiro com o terceiro</h2>"
   ]
  },
  {
   "cell_type": "code",
   "execution_count": 12,
   "id": "8b466bb3",
   "metadata": {},
   "outputs": [
    {
     "name": "stdout",
     "output_type": "stream",
     "text": [
      "Digite um número inteiro:20\n",
      "Digite um número inteiro:20\n",
      "Digite um número real:8\n",
      "68.0\n"
     ]
    }
   ],
   "source": [
    "num_int= int(input(\"Digite um número inteiro:\"))\n",
    "num_int_2= int(input(\"Digite um número inteiro:\"))\n",
    "num_real = float(input(\"Digite um número real:\"))\n",
    "\n",
    "soma = (3*num_int) + num_real\n",
    "print(soma)"
   ]
  },
  {
   "cell_type": "markdown",
   "id": "03efb5de",
   "metadata": {},
   "source": [
    "<h2>c) o terceiro elevado ao cubo</h2>"
   ]
  },
  {
   "cell_type": "code",
   "execution_count": 13,
   "id": "a68305eb",
   "metadata": {},
   "outputs": [
    {
     "name": "stdout",
     "output_type": "stream",
     "text": [
      "Digite um número inteiro:20\n",
      "Digite um número inteiro:20\n",
      "Digite um número real:7\n",
      "343.0\n"
     ]
    }
   ],
   "source": [
    "num_int= int(input(\"Digite um número inteiro:\"))\n",
    "num_int_2= int(input(\"Digite um número inteiro:\"))\n",
    "num_real = float(input(\"Digite um número real:\"))\n",
    "\n",
    "cubo = num_real **3\n",
    "print(cubo)"
   ]
  },
  {
   "cell_type": "markdown",
   "id": "3a24a2cb",
   "metadata": {},
   "source": [
    "## 12) Tendo como dados de entrada a altura de uma pessoa construa um algoritmo que calcule seu peso ideal, usando a seguinte fórmula (72.7*altura) - 58"
   ]
  },
  {
   "cell_type": "code",
   "execution_count": 15,
   "id": "e26724ab",
   "metadata": {},
   "outputs": [
    {
     "name": "stdout",
     "output_type": "stream",
     "text": [
      "Digite sua altura em metros1.77\n",
      "Seu peso ideal é: 70.679\n"
     ]
    }
   ],
   "source": [
    "altura = float(input(\"Digite sua altura em metros\"))\n",
    "peso_ideal = (72.7*altura) - 58\n",
    "print(\"Seu peso ideal é:\",peso_ideal)"
   ]
  },
  {
   "cell_type": "markdown",
   "id": "e5c25adb",
   "metadata": {},
   "source": [
    "## 13) Tendo como dado de entrada a altura (h) de uma pessoa, construa um algoritmo que calcule seu peso ideal, utilizando as seguintes formúlas:\n",
    "<h2>Para homens: (72.7*h) - 58</h2>\n",
    "<h2>Para mulheres: (62.1*h) - 44.7</h2>"
   ]
  },
  {
   "cell_type": "code",
   "execution_count": 17,
   "id": "4ac4b4a6",
   "metadata": {},
   "outputs": [
    {
     "name": "stdout",
     "output_type": "stream",
     "text": [
      "Digite seu sexomasculino\n",
      "Digite sua altura1.77\n",
      "70.679\n"
     ]
    }
   ],
   "source": [
    "sexo = str(input(\"Digite seu sexo\"))\n",
    "h = float(input(\"Digite sua altura\"))\n",
    "\n",
    "if sexo == \"masculino\":\n",
    "    print((72.7*h) - 58)\n",
    "if sexo == \"feminino\":\n",
    "    print((62.1*h) - 44.7)"
   ]
  },
  {
   "cell_type": "markdown",
   "id": "c316ee30",
   "metadata": {},
   "source": [
    "## 13) João Papo-de-pescador, homem de bem, comprou um microcomputador para controlar o rendimento diário de seu trabalho. Toda vez que ele traz um peso de peixes maior que o estabelecido pelo regulamento de pesca do estado de São Paulo (50 quilos) deve pagar uma multa de R$ 4,00 por quilo excedente. João precisa que vc faça um programa em python que leia a variável de quilos além do limite e na variável multa o valor da multa o valor da multa que João deverá pagar, Imprima os dados do programa com mensagens adequadas"
   ]
  },
  {
   "cell_type": "code",
   "execution_count": 25,
   "id": "0d939442",
   "metadata": {},
   "outputs": [
    {
     "ename": "IndentationError",
     "evalue": "unindent does not match any outer indentation level (<tokenize>, line 9)",
     "output_type": "error",
     "traceback": [
      "\u001b[1;36m  File \u001b[1;32m\"<tokenize>\"\u001b[1;36m, line \u001b[1;32m9\u001b[0m\n\u001b[1;33m    print(\"João excedeu o limite em:\", excesso)\u001b[0m\n\u001b[1;37m    ^\u001b[0m\n\u001b[1;31mIndentationError\u001b[0m\u001b[1;31m:\u001b[0m unindent does not match any outer indentation level\n"
     ]
    }
   ],
   "source": [
    "limite_de_peso = 50\n",
    "preco_multa = 4.0\n",
    "\n",
    "peso = float(input(\"Digite o valor pescado por João em kg:\"))\n",
    "\n",
    "if peso > limite_de_peso:\n",
    "    excesso = peso - limite_de_peso\n",
    "    multa = excesso * preco_multa\n",
    " print(\"João excedeu o limite em:\", excesso)\n",
    "else:\n",
    "    print(\"João não excedeu o limite de peso estabelecido pelo regulamento de pesca\")"
   ]
  }
 ],
 "metadata": {
  "kernelspec": {
   "display_name": "Python 3 (ipykernel)",
   "language": "python",
   "name": "python3"
  },
  "language_info": {
   "codemirror_mode": {
    "name": "ipython",
    "version": 3
   },
   "file_extension": ".py",
   "mimetype": "text/x-python",
   "name": "python",
   "nbconvert_exporter": "python",
   "pygments_lexer": "ipython3",
   "version": "3.9.13"
  }
 },
 "nbformat": 4,
 "nbformat_minor": 5
}
