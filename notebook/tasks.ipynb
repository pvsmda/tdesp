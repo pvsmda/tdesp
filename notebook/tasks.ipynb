{
 "cells": [
  {
   "cell_type": "markdown",
   "id": "54ae6d7c",
   "metadata": {},
   "source": [
    "## Faça um programa que mostra a mensagem hello world!"
   ]
  },
  {
   "cell_type": "code",
   "execution_count": null,
   "id": "0e40ae2a",
   "metadata": {},
   "outputs": [],
   "source": [
    "a = \"hello world\"\n",
    "print(a)"
   ]
  },
  {
   "cell_type": "markdown",
   "id": "51dcd386",
   "metadata": {},
   "source": [
    "## Faça um programa que peça dois números e então mostre a mensagem \"O número informado foi (número)"
   ]
  },
  {
   "cell_type": "code",
   "execution_count": null,
   "id": "ef0262ed",
   "metadata": {},
   "outputs": [],
   "source": [
    "prompt = input(\"Informe um numero:\")\n",
    "print('O número informado foi:', prompt)"
   ]
  },
  {
   "cell_type": "markdown",
   "id": "764c0cfb",
   "metadata": {},
   "source": [
    "## Faça um programa que peça dois números e imprima a soma"
   ]
  },
  {
   "cell_type": "code",
   "execution_count": null,
   "id": "d982b075",
   "metadata": {},
   "outputs": [],
   "source": [
    "prompt_1 = int(input('Informe um numero: '))\n",
    "prompt_2 = int(input('Informe um numero: '))\n",
    "\n",
    "print(prompt_1 + prompt_2)"
   ]
  },
  {
   "cell_type": "markdown",
   "id": "44892abb",
   "metadata": {},
   "source": [
    "## Faça um programa que peça as 4 notas bimestrais e mostre a média"
   ]
  },
  {
   "cell_type": "code",
   "execution_count": null,
   "id": "d4d6d1f1",
   "metadata": {},
   "outputs": [],
   "source": [
    "media_1 = float(input('Nota_1:'))\n",
    "media_2 = float(input('Nota_2:'))\n",
    "media_3 = float(input('Nota_3:'))\n",
    "media_4 = float(input('Nota_4:'))\n",
    "\n",
    "media = (media_1 + media_2 + media_3 + media_4)\n",
    "print(media/4)"
   ]
  },
  {
   "cell_type": "markdown",
   "id": "c0c71ae6",
   "metadata": {},
   "source": [
    "## Faça um programa que converta metros em cm"
   ]
  },
  {
   "cell_type": "code",
   "execution_count": null,
   "id": "3f572efe",
   "metadata": {},
   "outputs": [],
   "source": [
    "height_metros = float(input(\"Altura em metros:\"))\n",
    "print(height_metros * 100,'cm')\n"
   ]
  },
  {
   "cell_type": "markdown",
   "id": "4963a03c",
   "metadata": {},
   "source": [
    "<h1 align='center'>AULA 02</h1>"
   ]
  },
  {
   "cell_type": "markdown",
   "id": "c94f9929",
   "metadata": {},
   "source": [
    "## Faça um programa que peça o raio de um círculo, calcule e mostre sua área"
   ]
  },
  {
   "cell_type": "code",
   "execution_count": 1,
   "id": "d560c975",
   "metadata": {},
   "outputs": [
    {
     "name": "stdout",
     "output_type": "stream",
     "text": [
      "Digite o valor do raio:2\n",
      "A área do círculo é: 12.566370614359172\n"
     ]
    }
   ],
   "source": [
    "#importando math pra puder usar o PI\n",
    "import math\n",
    "#Solicitando o valor do raio do círculo\n",
    "raio =  float(input(\"Digite o valor do raio:\"))\n",
    "#formula pra calcular a área do círculo\n",
    "area = math.pi * raio**2\n",
    "#printando a área do círculo\n",
    "print(\"A área do círculo é:\",area)"
   ]
  },
  {
   "cell_type": "markdown",
   "id": "39762bd3",
   "metadata": {},
   "source": [
    "## Faça um programa que calcule a área de um quadrado, em seguida mostre o dobro desta área para o usuário"
   ]
  },
  {
   "cell_type": "code",
   "execution_count": 3,
   "id": "d1b5f494",
   "metadata": {},
   "outputs": [
    {
     "name": "stdout",
     "output_type": "stream",
     "text": [
      "Digite o valor do lado do quadrado:2\n",
      "A área do quadrado é: 4.0\n",
      "O dobro da área é: 8.0\n"
     ]
    }
   ],
   "source": [
    "lado = float(input(\"Digite o valor do lado do quadrado:\"))\n",
    "area = lado **2\n",
    "dobro_area = 2*area\n",
    "\n",
    "print(\"A área do quadrado é:\", area)\n",
    "print(\"O dobro da área é:\", dobro_area)"
   ]
  }
 ],
 "metadata": {
  "kernelspec": {
   "display_name": "Python 3 (ipykernel)",
   "language": "python",
   "name": "python3"
  },
  "language_info": {
   "codemirror_mode": {
    "name": "ipython",
    "version": 3
   },
   "file_extension": ".py",
   "mimetype": "text/x-python",
   "name": "python",
   "nbconvert_exporter": "python",
   "pygments_lexer": "ipython3",
   "version": "3.9.13"
  }
 },
 "nbformat": 4,
 "nbformat_minor": 5
}
