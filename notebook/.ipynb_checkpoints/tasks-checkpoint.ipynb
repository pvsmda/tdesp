{
 "cells": [
  {
   "cell_type": "markdown",
   "id": "3bcd4bd5",
   "metadata": {},
   "source": [
    "<h1 align='center'>AULA 01</h1>"
   ]
  },
  {
   "cell_type": "markdown",
   "id": "54ae6d7c",
   "metadata": {},
   "source": [
    "## 1) Faça um programa que mostra a mensagem hello world!"
   ]
  },
  {
   "cell_type": "code",
   "execution_count": 1,
   "id": "0e40ae2a",
   "metadata": {},
   "outputs": [
    {
     "name": "stdout",
     "output_type": "stream",
     "text": [
      "hello world\n"
     ]
    }
   ],
   "source": [
    "a = \"hello world\"\n",
    "print(a)"
   ]
  },
  {
   "cell_type": "markdown",
   "id": "51dcd386",
   "metadata": {},
   "source": [
    "## 2) Faça um programa que peça dois números e então mostre a mensagem \"O número informado foi (número)"
   ]
  },
  {
   "cell_type": "code",
   "execution_count": 2,
   "id": "ef0262ed",
   "metadata": {},
   "outputs": [
    {
     "name": "stdout",
     "output_type": "stream",
     "text": [
      "Informe um numero:5\n",
      "O número informado foi: 5\n"
     ]
    }
   ],
   "source": [
    "prompt = input(\"Informe um numero:\")\n",
    "print('O número informado foi:', prompt)"
   ]
  },
  {
   "cell_type": "markdown",
   "id": "764c0cfb",
   "metadata": {},
   "source": [
    "## 3) Faça um programa que peça dois números e imprima a soma"
   ]
  },
  {
   "cell_type": "code",
   "execution_count": 3,
   "id": "d982b075",
   "metadata": {},
   "outputs": [
    {
     "name": "stdout",
     "output_type": "stream",
     "text": [
      "Informe um numero: 2\n",
      "Informe um numero: 7\n",
      "9\n"
     ]
    }
   ],
   "source": [
    "prompt_1 = int(input('Informe um numero: '))\n",
    "prompt_2 = int(input('Informe um numero: '))\n",
    "\n",
    "print(prompt_1 + prompt_2)"
   ]
  },
  {
   "cell_type": "markdown",
   "id": "44892abb",
   "metadata": {},
   "source": [
    "## 4) Faça um programa que peça as 4 notas bimestrais e mostre a média"
   ]
  },
  {
   "cell_type": "code",
   "execution_count": 4,
   "id": "d4d6d1f1",
   "metadata": {},
   "outputs": [
    {
     "name": "stdout",
     "output_type": "stream",
     "text": [
      "Nota_1:10\n",
      "Nota_2:9\n",
      "Nota_3:8\n",
      "Nota_4:7\n",
      "8.5\n"
     ]
    }
   ],
   "source": [
    "media_1 = float(input('Nota_1:'))\n",
    "media_2 = float(input('Nota_2:'))\n",
    "media_3 = float(input('Nota_3:'))\n",
    "media_4 = float(input('Nota_4:'))\n",
    "\n",
    "media = (media_1 + media_2 + media_3 + media_4)\n",
    "print(media/4)"
   ]
  },
  {
   "cell_type": "markdown",
   "id": "c0c71ae6",
   "metadata": {},
   "source": [
    "## 5) Faça um programa que converta metros em cm"
   ]
  },
  {
   "cell_type": "code",
   "execution_count": 5,
   "id": "3f572efe",
   "metadata": {},
   "outputs": [
    {
     "name": "stdout",
     "output_type": "stream",
     "text": [
      "Altura em metros:1.75\n",
      "175.0 cm\n"
     ]
    }
   ],
   "source": [
    "height_metros = float(input(\"Altura em metros:\"))\n",
    "print(height_metros * 100,'cm')\n"
   ]
  },
  {
   "cell_type": "markdown",
   "id": "478e3a85",
   "metadata": {},
   "source": [
    "<h1 align='center'>AULA 02</h1>"
   ]
  },
  {
   "cell_type": "markdown",
   "id": "5ec6c418",
   "metadata": {},
   "source": [
    "## 6) Faça um programa que peça o raio de um círculo, calcule e mostre sua área"
   ]
  },
  {
   "cell_type": "code",
   "execution_count": 6,
   "id": "4f538916",
   "metadata": {},
   "outputs": [
    {
     "name": "stdout",
     "output_type": "stream",
     "text": [
      "Digite o valor do raio:2.76\n",
      "A área do círculo é: 23.931396197985602\n"
     ]
    }
   ],
   "source": [
    "#importando math pra puder usar o PI\n",
    "import math\n",
    "#Solicitando o valor do raio do círculo\n",
    "raio =  float(input(\"Digite o valor do raio:\"))\n",
    "#formula pra calcular a área do círculo\n",
    "area = math.pi * raio**2\n",
    "#printando a área do círculo\n",
    "print(\"A área do círculo é:\",area)"
   ]
  },
  {
   "cell_type": "markdown",
   "id": "bc00e0af",
   "metadata": {},
   "source": [
    "## 7) Faça um programa que calcule a área de um quadrado, em seguida mostre o dobro desta área para o usuário"
   ]
  },
  {
   "cell_type": "code",
   "execution_count": 7,
   "id": "1ad2a125",
   "metadata": {},
   "outputs": [
    {
     "name": "stdout",
     "output_type": "stream",
     "text": [
      "Digite o valor do lado do quadrado:9\n",
      "A área do quadrado é: 81.0\n",
      "O dobro da área é: 162.0\n"
     ]
    }
   ],
   "source": [
    "lado = float(input(\"Digite o valor do lado do quadrado:\"))\n",
    "area = lado **2\n",
    "dobro_area = 2*area\n",
    "\n",
    "print(\"A área do quadrado é:\", area)\n",
    "print(\"O dobro da área é:\", dobro_area)"
   ]
  },
  {
   "cell_type": "markdown",
   "id": "a55a717a",
   "metadata": {},
   "source": [
    "## 8) Faça um programa que pergunte quanto você ganha por hora e o numero de horas trabalhadas no mês. Calcule e mostre o total do seu salário no referido mês"
   ]
  },
  {
   "cell_type": "code",
   "execution_count": 8,
   "id": "814e4569",
   "metadata": {},
   "outputs": [
    {
     "name": "stdout",
     "output_type": "stream",
     "text": [
      "Digite o valor que você ganha por hora:50\n",
      "Digite o valor de horas trabalhadas no mês:40\n",
      "2000.0\n"
     ]
    }
   ],
   "source": [
    "valor_hora = float(input(\"Digite o valor que você ganha por hora:\"))\n",
    "horas_trabalhadas = float(input(\"Digite o valor de horas trabalhadas no mês:\"))\n",
    "salario = valor_hora * horas_trabalhadas\n",
    "print(salario)"
   ]
  },
  {
   "cell_type": "markdown",
   "id": "14206465",
   "metadata": {},
   "source": [
    "## 9) Faça um programa que peça a temperatura em graus Fahrenheit, transforme e mostre a temperatura em graus Celsius."
   ]
  },
  {
   "cell_type": "code",
   "execution_count": 9,
   "id": "6dd7d9ba",
   "metadata": {},
   "outputs": [
    {
     "name": "stdout",
     "output_type": "stream",
     "text": [
      "Digite a temperatura em fahrenheit104\n",
      "A temperatura em graus celsius é: 40.0\n"
     ]
    }
   ],
   "source": [
    "fahrenheit = float(input(\"Digite a temperatura em fahrenheit\"))\n",
    "celsius = (fahrenheit - 32) * 5/9\n",
    "print(\"A temperatura em graus celsius é:\", celsius)"
   ]
  },
  {
   "cell_type": "markdown",
   "id": "b19fe157",
   "metadata": {},
   "source": [
    "<h1 align='center'>AULA 03</h1>"
   ]
  },
  {
   "cell_type": "markdown",
   "id": "337f68a2",
   "metadata": {},
   "source": [
    "## 10) Faça um programa que peça a temperatura em graus Celsius, transforme e mostre a temperatura em graus Fahrenheit."
   ]
  },
  {
   "cell_type": "code",
   "execution_count": 10,
   "id": "c9d30a13",
   "metadata": {},
   "outputs": [
    {
     "name": "stdout",
     "output_type": "stream",
     "text": [
      "Digite a temperatura em Celsius:40\n",
      "temperatura em fahrenheit: 104.0\n"
     ]
    }
   ],
   "source": [
    "celsius = float(input(\"Digite a temperatura em Celsius:\"))\n",
    "fahrenheit = (celsius * 9/5) + 32\n",
    "print(\"temperatura em fahrenheit:\", fahrenheit)"
   ]
  },
  {
   "cell_type": "markdown",
   "id": "e8df8f2d",
   "metadata": {},
   "source": [
    "## 11) Faça um programa que peça 2 números inteiros e um número real, Calcule e mostre: \n",
    "<h2>a) o produto do dobro do primeiro com metade do segundo</h2>\n",
    "\n"
   ]
  },
  {
   "cell_type": "code",
   "execution_count": 11,
   "id": "a251c41c",
   "metadata": {},
   "outputs": [
    {
     "name": "stdout",
     "output_type": "stream",
     "text": [
      "Digite um número inteiro:50\n",
      "Digite um número inteiro:66\n",
      "Digite um número real:77\n",
      "3300.0\n"
     ]
    }
   ],
   "source": [
    "num_int= int(input(\"Digite um número inteiro:\"))\n",
    "num_int_2= int(input(\"Digite um número inteiro:\"))\n",
    "num_real = float(input(\"Digite um número real:\"))\n",
    "\n",
    "produto = (2*num_int) * (num_int_2/2)\n",
    "\n",
    "print(produto)"
   ]
  },
  {
   "cell_type": "markdown",
   "id": "9022d8ef",
   "metadata": {},
   "source": [
    "<h2>b) a soma do triplo do primeiro com o terceiro</h2>"
   ]
  },
  {
   "cell_type": "code",
   "execution_count": 12,
   "id": "8b466bb3",
   "metadata": {},
   "outputs": [
    {
     "name": "stdout",
     "output_type": "stream",
     "text": [
      "Digite um número inteiro:98\n",
      "Digite um número inteiro:6\n",
      "Digite um número real:2\n",
      "296.0\n"
     ]
    }
   ],
   "source": [
    "num_int= int(input(\"Digite um número inteiro:\"))\n",
    "num_int_2= int(input(\"Digite um número inteiro:\"))\n",
    "num_real = float(input(\"Digite um número real:\"))\n",
    "\n",
    "soma = (3*num_int) + num_real\n",
    "print(soma)"
   ]
  },
  {
   "cell_type": "markdown",
   "id": "03efb5de",
   "metadata": {},
   "source": [
    "<h2>c) o terceiro elevado ao cubo</h2>"
   ]
  },
  {
   "cell_type": "code",
   "execution_count": 13,
   "id": "a68305eb",
   "metadata": {},
   "outputs": [
    {
     "name": "stdout",
     "output_type": "stream",
     "text": [
      "Digite um número inteiro:7\n",
      "Digite um número inteiro:7\n",
      "Digite um número real:8\n",
      "512.0\n"
     ]
    }
   ],
   "source": [
    "num_int= int(input(\"Digite um número inteiro:\"))\n",
    "num_int_2= int(input(\"Digite um número inteiro:\"))\n",
    "num_real = float(input(\"Digite um número real:\"))\n",
    "\n",
    "cubo = num_real **3\n",
    "print(cubo)"
   ]
  },
  {
   "cell_type": "markdown",
   "id": "28350e11",
   "metadata": {},
   "source": [
    "## 12) Tendo como dados de entrada a altura de uma pessoa construa um algoritmo que calcule seu peso ideal, usando a seguinte fórmula (72.7*altura) - 58"
   ]
  },
  {
   "cell_type": "code",
   "execution_count": 14,
   "id": "0b4de224",
   "metadata": {},
   "outputs": [
    {
     "name": "stdout",
     "output_type": "stream",
     "text": [
      "Digite sua altura em metros1.75\n",
      "Seu peso ideal é: 69.22500000000001\n"
     ]
    }
   ],
   "source": [
    "altura = float(input(\"Digite sua altura em metros\"))\n",
    "peso_ideal = (72.7*altura) - 58\n",
    "print(\"Seu peso ideal é:\",peso_ideal)"
   ]
  },
  {
   "cell_type": "markdown",
   "id": "93541656",
   "metadata": {},
   "source": [
    "## 13) Tendo como dado de entrada a altura (h) de uma pessoa, construa um algoritmo que calcule seu peso ideal, utilizando as seguintes formúlas:\n",
    "<h2>Para homens: (72.7*h) - 58</h2>\n",
    "<h2>Para mulheres: (62.1*h) - 44.7</h2>"
   ]
  },
  {
   "cell_type": "code",
   "execution_count": 27,
   "id": "219caf3a",
   "metadata": {},
   "outputs": [
    {
     "name": "stdout",
     "output_type": "stream",
     "text": [
      "Digite seu sexo: masculino\n",
      "Digite sua altura: 1.77\n",
      "70.679\n"
     ]
    }
   ],
   "source": [
    "sexo = str(input(\"Digite seu sexo: \"))\n",
    "h = float(input(\"Digite sua altura: \"))\n",
    "\n",
    "if sexo == \"masculino\":\n",
    "    print((72.7*h) - 58)\n",
    "if sexo == \"feminino\":\n",
    "    print((62.1*h) - 44.7)"
   ]
  },
  {
   "cell_type": "markdown",
   "id": "e514bfd1",
   "metadata": {},
   "source": [
    "## 14) João Papo-de-pescador, homem de bem, comprou um microcomputador para controlar o rendimento diário de seu trabalho. Toda vez que ele traz um peso de peixes maior que o estabelecido pelo regulamento de pesca do estado de São Paulo (50 quilos) deve pagar uma multa de R$ 4,00 por quilo excedente. João precisa que vc faça um programa em python que leia a variável de quilos além do limite e na variável multa o valor da multa o valor da multa que João deverá pagar, Imprima os dados do programa com mensagens adequadas"
   ]
  },
  {
   "cell_type": "code",
   "execution_count": 16,
   "id": "0d0f91d1",
   "metadata": {},
   "outputs": [
    {
     "name": "stdout",
     "output_type": "stream",
     "text": [
      "Digite o valor pescado por João em kg:54\n",
      "João excedeu o limite em: 4.0\n",
      "E deve pagar R$: 16.0\n"
     ]
    }
   ],
   "source": [
    "limite_de_peso = 50\n",
    "preco_multa = 4.0\n",
    "\n",
    "peso = float(input(\"Digite o valor pescado por João em kg:\"))\n",
    "\n",
    "if peso > limite_de_peso:\n",
    "    excesso = peso - limite_de_peso\n",
    "    multa = excesso * preco_multa\n",
    "    print(\"João excedeu o limite em:\", excesso)\n",
    "    print(\"E deve pagar R$:\",multa)\n",
    "else:\n",
    "    print(\"João não excedeu o limite de peso estabelecido pelo regulamento de pesca\")"
   ]
  },
  {
   "cell_type": "markdown",
   "id": "4277a6ef",
   "metadata": {},
   "source": [
    "## 15) Faça um Programa que pergunte quanto você ganha por hora e o número de horas trabalhadas no mês. Calcule e mostre o total do seu salário no referido mês, sabendo-se que são descontados 11% para o Imposto de Renda, 8% para o INSS e 5% para o sindicato, faça um programa que nos dê:\n",
    "<h4>a. salário bruto.</h4>\n",
    "<h4>b. quanto pagou ao INSS.</h4>\n",
    "<h4>c. quanto pagou ao sindicato.</h4>\n",
    "<h4>d. o salário líquido.</h4>\n",
    "<h4>e. calcule os descontos e o salário líquido, conforme a tabela abaixo:</h4>\n",
    "\n",
    "| First Header  | Second Header |\n",
    "| ------------- | ------------- |\n",
    "| Salário Bruto  | INSS (8%)  |\n",
    "| IR (11%)  | Sindicato|\n"
   ]
  },
  {
   "cell_type": "code",
   "execution_count": 17,
   "id": "65a72de4",
   "metadata": {},
   "outputs": [
    {
     "name": "stdout",
     "output_type": "stream",
     "text": [
      "Valor da hora trabalhada:90\n",
      "Horas trabalhadas no mês:40\n",
      "salário bruto R$: 3600.0\n",
      "imposto de rendas R$: 396.0\n",
      "INSS (8%) R$ 288.0\n",
      "salário líquido R$: 2736.0\n"
     ]
    }
   ],
   "source": [
    "valor_hora = float(input(\"Valor da hora trabalhada:\"))\n",
    "hora_mes = float(input(\"Horas trabalhadas no mês:\"))\n",
    "\n",
    "salario_bruto = valor_hora * hora_mes\n",
    "\n",
    "ir = 0.11 * salario_bruto\n",
    "inss = 0.08 * salario_bruto\n",
    "sindicato = 0.05 * salario_bruto\n",
    "\n",
    "descontos = ir + inss + sindicato\n",
    "\n",
    "salario_liquido = salario_bruto - descontos\n",
    "\n",
    "print(\"salário bruto R$:\",(salario_bruto))\n",
    "print(\"imposto de rendas R$:\",(ir))\n",
    "print(\"INSS (8%) R$\",(inss))\n",
    "print(\"salário líquido R$:\",(salario_liquido))"
   ]
  },
  {
   "cell_type": "markdown",
   "id": "5bb06ba6",
   "metadata": {},
   "source": [
    "## 16) Faça um programa para uma loja de tintas. O programa deverá pedir o tamanho em metros quadrados da área a ser pintada. Considere que a cobertura da tinta é de 1 litro para cada 3 metros quadrados e que a tinta é vendida em latas de 18 litros, que custam R$ 80,00. Informe ao usuário a quantidades de latas de tinta a serem compradas e o preço total."
   ]
  },
  {
   "cell_type": "code",
   "execution_count": 18,
   "id": "ff3390da",
   "metadata": {},
   "outputs": [
    {
     "name": "stdout",
     "output_type": "stream",
     "text": [
      "Tamanho em metros quadrados: 2\n",
      "1 latas\n",
      "R$ 80.00\n"
     ]
    }
   ],
   "source": [
    "tamanho = int(input('Tamanho em metros quadrados: '))\n",
    "litros = tamanho / 3\n",
    "\n",
    "if tamanho % 54 == 0:\n",
    "    latas = tamanho / 54\n",
    "else: \n",
    "    latas = int(tamanho / 54) + 1\n",
    "\n",
    "preco = latas * 80\n",
    "print ('%d latas' %latas)\n",
    "print ('R$ %.2f' %preco)"
   ]
  },
  {
   "cell_type": "markdown",
   "id": "b655d1a0",
   "metadata": {},
   "source": [
    "## 17) Faça um programa para uma loja de tintas. O programa deverá pedir o tamanho em metros quadrados da área a ser pintada. Considere que a cobertura da tinta é de 1 litro para cada 6 metros quadrados e que a tinta é vendida em latas de 18 litros, que custam R$ 80,00 ou em galões de 3,6 litros, que custam 25,00 reais"
   ]
  },
  {
   "cell_type": "code",
   "execution_count": 19,
   "id": "0e9164d5",
   "metadata": {},
   "outputs": [
    {
     "name": "stdout",
     "output_type": "stream",
     "text": [
      "Por favor, insira o tamanho da área em metros quadrados: 200\n",
      "O cliente precisa comprar 2 latas, que custarão R$160.\n",
      "O cliente precisa comprar 10 galões, que custarão R$250.\n",
      "O cliente precisa comprar 2.0 latas e 1 galões, que custarão 185.0\n"
     ]
    }
   ],
   "source": [
    "import math\n",
    "\n",
    "litros_lata = 18\n",
    "preco_lata = 80\n",
    "litros_galao = 3.6\n",
    "preco_galao = 25\n",
    "\n",
    "m2 = float(input(\"Por favor, insira o tamanho da área em metros quadrados: \"))\n",
    "litros_necessarios = m2 / 6\n",
    "\n",
    "## comprar apenas latas de 18 litros\n",
    "qtd_latas = math.ceil(litros_necessarios / litros_lata)\n",
    "custo_latas = qtd_latas * preco_lata\n",
    "print(f'O cliente precisa comprar {qtd_latas} latas, que custarão R${custo_latas}.')\n",
    "\n",
    "## comprar apenas galões de 3,6 litros; \n",
    "qtd_galoes = math.ceil(litros_necessarios / litros_galao)\n",
    "custo_galoes = qtd_galoes * preco_galao\n",
    "\n",
    "print(f'O cliente precisa comprar {qtd_galoes} galões, que custarão R${custo_galoes}.')\n",
    "\n",
    "## misturar latas e galões, de forma que o desperdício de tinta seja menor. Acrescente 10% \n",
    "## de folga e sempre arredonde os valores para cima, isto é, considere latas cheias.\n",
    "\n",
    "litros_necessarios_folga = litros_necessarios * 1.1\n",
    "qtd_latas_c = litros_necessarios_folga // litros_lata\n",
    "\n",
    "litros_necessarios_folga_faltando = litros_necessarios_folga - (qtd_latas_c * litros_lata)\n",
    "qtd_galoes_c = math.ceil(litros_necessarios_folga_faltando / litros_galao)\n",
    "\n",
    "custo_mix = (qtd_latas_c * preco_lata) + (qtd_galoes_c * preco_galao)\n",
    "\n",
    "\n",
    "print(f'O cliente precisa comprar {qtd_latas_c} latas e {qtd_galoes_c} galões, que custarão {custo_mix}')"
   ]
  },
  {
   "cell_type": "markdown",
   "id": "fbd04d3f",
   "metadata": {},
   "source": [
    "## 18) Faça um programa que peça o tamanho de um arquivo para download (em MB) e a velocidade de um link de Internet (em Mbps), calcule e informe o tempo aproximado de download do arquivo usando este link (em minutos)."
   ]
  },
  {
   "cell_type": "code",
   "execution_count": 20,
   "id": "baed85c7",
   "metadata": {},
   "outputs": [
    {
     "name": "stdout",
     "output_type": "stream",
     "text": [
      "Tamanho do arquivo (MB): 90\n",
      "Velocidade de Internet (MBps): 500\n",
      "Tempo aproximado de download: 11 Minutos \n"
     ]
    }
   ],
   "source": [
    "tamanho = float(input('Tamanho do arquivo (MB): '))\n",
    "velocidade = float(input('Velocidade de Internet (MBps): '))\n",
    "print('Tempo aproximado de download: %.0f Minutos ' %((tamanho / velocidade) * 60))"
   ]
  }
 ],
 "metadata": {
  "kernelspec": {
   "display_name": "Python 3 (ipykernel)",
   "language": "python",
   "name": "python3"
  },
  "language_info": {
   "codemirror_mode": {
    "name": "ipython",
    "version": 3
   },
   "file_extension": ".py",
   "mimetype": "text/x-python",
   "name": "python",
   "nbconvert_exporter": "python",
   "pygments_lexer": "ipython3",
   "version": "3.9.13"
  }
 },
 "nbformat": 4,
 "nbformat_minor": 5
}
