{
 "cells": [
  {
   "cell_type": "markdown",
   "id": "54ae6d7c",
   "metadata": {},
   "source": [
    "## Faça um programa que mostra a mensagem hello world!"
   ]
  },
  {
   "cell_type": "code",
   "execution_count": null,
   "id": "0e40ae2a",
   "metadata": {},
   "outputs": [],
   "source": [
    "a = \"hello world\"\n",
    "print(a)"
   ]
  },
  {
   "cell_type": "markdown",
   "id": "51dcd386",
   "metadata": {},
   "source": [
    "## Faça um programa que peça dois números e então mostre a mensagem \"O número informado foi (número)"
   ]
  },
  {
   "cell_type": "code",
   "execution_count": null,
   "id": "ef0262ed",
   "metadata": {},
   "outputs": [],
   "source": [
    "prompt = input(\"Informe um numero:\")\n",
    "print('O número informado foi:', prompt)"
   ]
  },
  {
   "cell_type": "markdown",
   "id": "764c0cfb",
   "metadata": {},
   "source": [
    "## Faça um programa que peça dois números e imprima a soma"
   ]
  },
  {
   "cell_type": "code",
   "execution_count": null,
   "id": "d982b075",
   "metadata": {},
   "outputs": [],
   "source": [
    "prompt_1 = int(input('Informe um numero: '))\n",
    "prompt_2 = int(input('Informe um numero: '))\n",
    "\n",
    "print(prompt_1 + prompt_2)"
   ]
  },
  {
   "cell_type": "markdown",
   "id": "44892abb",
   "metadata": {},
   "source": [
    "## Faça um programa que peça as 4 notas bimestrais e mostre a média"
   ]
  },
  {
   "cell_type": "code",
   "execution_count": null,
   "id": "d4d6d1f1",
   "metadata": {},
   "outputs": [],
   "source": [
    "media_1 = float(input('Nota_1:'))\n",
    "media_2 = float(input('Nota_2:'))\n",
    "media_3 = float(input('Nota_3:'))\n",
    "media_4 = float(input('Nota_4:'))\n",
    "\n",
    "media = (media_1 + media_2 + media_3 + media_4)\n",
    "print(media/4)"
   ]
  },
  {
   "cell_type": "markdown",
   "id": "c0c71ae6",
   "metadata": {},
   "source": [
    "## Faça um programa que converta metros em cm"
   ]
  },
  {
   "cell_type": "code",
   "execution_count": null,
   "id": "3f572efe",
   "metadata": {},
   "outputs": [],
   "source": [
    "height_metros = float(input(\"Altura em metros:\"))\n",
    "print(height_metros * 100,'cm')\n"
   ]
  }
 ],
 "metadata": {
  "kernelspec": {
   "display_name": "Python 3 (ipykernel)",
   "language": "python",
   "name": "python3"
  },
  "language_info": {
   "codemirror_mode": {
    "name": "ipython",
    "version": 3
   },
   "file_extension": ".py",
   "mimetype": "text/x-python",
   "name": "python",
   "nbconvert_exporter": "python",
   "pygments_lexer": "ipython3",
   "version": "3.9.13"
  }
 },
 "nbformat": 4,
 "nbformat_minor": 5
}
