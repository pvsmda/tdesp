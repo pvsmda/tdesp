{
 "cells": [
  {
   "cell_type": "markdown",
   "id": "71d97c66",
   "metadata": {},
   "source": [
    "<h1 style=\"color:#000\" align=\"center\">LISTA SOBRE CONDICIONAIS</h1>"
   ]
  },
  {
   "cell_type": "markdown",
   "id": "ce99391c",
   "metadata": {},
   "source": [
    "## 1) Faça um Programa que peça dois números e imprima o maior deles"
   ]
  },
  {
   "cell_type": "code",
   "execution_count": 7,
   "id": "48b5ff88",
   "metadata": {},
   "outputs": [
    {
     "name": "stdout",
     "output_type": "stream",
     "text": [
      "Digite um número:2\n",
      "Digite um número:3\n",
      "3 maior que 2\n"
     ]
    }
   ],
   "source": [
    "num_1 = int(input(\"Digite um número:\"))\n",
    "num_2 = int(input(\"Digite um número:\"))\n",
    "\n",
    "if num_1 > num_2:\n",
    "    print(num_1, \"maior que\", num_2)\n",
    "else:\n",
    "    print(num_2, \"maior que\", num_1)"
   ]
  },
  {
   "cell_type": "markdown",
   "id": "897fd848",
   "metadata": {},
   "source": [
    "<h3 align=center>Explicação do código<h3>\n",
    "    <br>\n",
    "    <li>\n",
    "    Pede ao usuário para informar dois números usando a função input(). Os números são convertidos para números de ponto flutuante usando a função float();\n",
    "    </li>\n",
    "    <li>\n",
    "    Usa uma sequência de condicionais if, elif e else para verificar qual número é o maior. Se o primeiro número for maior do que o segundo, o programa imprime \"O primeiro número é o maior.\". Se o segundo número for maior do que o primeiro, o programa imprime \"O segundo número é o maior.\". Se os números forem iguais, o programa imprime \"Os números são iguais.\".\n",
    "    </li>"
   ]
  },
  {
   "cell_type": "markdown",
   "id": "6f17ce8f",
   "metadata": {},
   "source": [
    "## 2) Faça um Programa que peça um valor e mostre na tela se o valor é positivo ou negativo."
   ]
  },
  {
   "cell_type": "code",
   "execution_count": 8,
   "id": "2f73c143",
   "metadata": {},
   "outputs": [
    {
     "name": "stdout",
     "output_type": "stream",
     "text": [
      "Digite um número:20\n",
      "20.0 é um número positivo\n"
     ]
    }
   ],
   "source": [
    "valor = float(input(\"Digite um número:\"))\n",
    "\n",
    "if valor > 0:\n",
    "    print(valor,\"é um número positivo\")\n",
    "elif valor < 0:\n",
    "    print(valor,\"e´um valor negativo\")\n",
    "else:\n",
    "    print(\"O valor é zero\")"
   ]
  },
  {
   "cell_type": "markdown",
   "id": "fc3351c2",
   "metadata": {},
   "source": [
    "<h3 align=center>Explicação do código</h3>\n",
    "<br>\n",
    "<li>Pede ao usuário para informar um valor usando a função input(). O valor é convertido para um número de ponto flutuante usando a função float();</li>\n",
    "<li>\n",
    "Usa uma sequência de condicionais if, elif e else para verificar se o valor digitado pelo usuário é positivo, negativo ou zero.\n",
    "</li>\n",
    "<li>Se o valor for maior do que zero, o programa imprime \"O valor é positivo.\". Se o valor for menor do que zero, o programa imprime \"O valor é negativo.\". Se o valor for igual a zero, o programa imprime \"O valor é zero.\".</li>\n"
   ]
  },
  {
   "cell_type": "markdown",
   "id": "827d8932",
   "metadata": {},
   "source": [
    "## 3) Faça um Programa que verifique se uma letra digitada é \"F\" ou \"M\". Conforme a letra escrever: F\n",
    "- Feminino, M - Masculino, Sexo Inválido"
   ]
  },
  {
   "cell_type": "code",
   "execution_count": 9,
   "id": "636be7e8",
   "metadata": {},
   "outputs": [
    {
     "name": "stdout",
     "output_type": "stream",
     "text": [
      "Digite o sexo (F/M):M\n",
      "Sexo masculino\n"
     ]
    }
   ],
   "source": [
    "sexo = str(input(\"Digite o sexo (F/M):\"))\n",
    "\n",
    "if sexo == \"F\":\n",
    "    print(\"Sexo feminino\")\n",
    "elif sexo == \"M\":\n",
    "    print(\"Sexo masculino\")\n",
    "else:\n",
    "    print(\"Sexo inválido\")"
   ]
  },
  {
   "cell_type": "markdown",
   "id": "03c8a1a1",
   "metadata": {},
   "source": [
    "<h3 align=center>Explicação do código</h3>\n",
    "<br>\n",
    "<li>Pede ao usuário para informar a letra do seu gênero usando a função input();</li>\n",
    "<li>Usa uma sequência de condicionais if, elif e else para verificar se a letra digitada pelo usuário é \"F\" ou \"M\". Se a letra for \"F\", o programa imprime \"Feminino\";</li>\n",
    "<li>Se a letra for \"M\", o programa imprime \"Masculino\". Se a letra não for \"F\" nem \"M\", o programa imprime \"Sexo inválido.</li>"
   ]
  },
  {
   "cell_type": "markdown",
   "id": "972c5bae",
   "metadata": {},
   "source": [
    "## 4) Faça um Programa que verifique se uma letra digitada é vogal ou consoante"
   ]
  },
  {
   "cell_type": "code",
   "execution_count": 10,
   "id": "9f69e0f2",
   "metadata": {},
   "outputs": [
    {
     "name": "stdout",
     "output_type": "stream",
     "text": [
      "Digite um letra:e\n",
      "e Essa é uma vogal\n"
     ]
    }
   ],
   "source": [
    "letra = str(input(\"Digite um letra:\"))\n",
    "\n",
    "if letra in \"aeiouAEIOU\":\n",
    "    print(letra,\"Essa é uma vogal\")\n",
    "else:\n",
    "    print(\"A letra é uma consoante\")"
   ]
  },
  {
   "cell_type": "markdown",
   "id": "a4300360",
   "metadata": {},
   "source": [
    "<h3 align=center>Explicação do código</h3>\n",
    "<br>\n",
    "<li>Pede ao usuário para informar a letra usando a função input();</li>\n",
    "<li>Usa uma condicional if para verificar se a letra digitada está presente na string \"aeiouAEIOU\", que representa todas as vogais maiúsculas e minúsculas;</li>\n",
    "<li>Se a letra estiver presente, o programa imprime a mensagem \"A letra digitada é uma vogal.\". Caso contrário, o programa imprime a mensagem \"A letra digitada é uma consoante.</li>"
   ]
  },
  {
   "cell_type": "markdown",
   "id": "7cfe1325",
   "metadata": {},
   "source": [
    "## 5) Faça um programa para a leitura de duas notas parciais de um aluno. O programa deve calcular a média alcançada por aluno e apresentar:\n",
    "o A mensagem \"Aprovado\", se a média alcançada for maior ou igual a sete; <br>\n",
    "o A mensagem \"Reprovado\", se a média for menor do que sete; <br>\n",
    "o A mensagem \"Aprovado com Distinção\", se a média for igual a dez. <br>\n"
   ]
  },
  {
   "cell_type": "code",
   "execution_count": 11,
   "id": "801a0655",
   "metadata": {},
   "outputs": [
    {
     "name": "stdout",
     "output_type": "stream",
     "text": [
      "Digite a 1° nota:10\n",
      "Digite a 2° nota:10\n",
      "10.0 Aprovado com distinção\n"
     ]
    }
   ],
   "source": [
    "media_1= float(input(\"Digite a 1° nota:\"))\n",
    "media_2 = float(input(\"Digite a 2° nota:\"))\n",
    "\n",
    "media_final = (media_1+ media_2) / 2\n",
    "\n",
    "if media_final == 10:\n",
    "    print(media_final,\"Aprovado com distinção\")\n",
    "elif media_final >= 7:\n",
    "    print(media_final,\"Aprovado\")\n",
    "else:\n",
    "    print(media_final,\"Reprovado\")"
   ]
  },
  {
   "cell_type": "markdown",
   "id": "2ca5d15f",
   "metadata": {},
   "source": [
    "<h3 align=center>Explicação do código</h3>\n",
    "<br>\n",
    "<li>Pede ao usuário para informar as duas notas parciais usando a função input() e converte os valores para float usando a função float();</li>\n",
    "<li>Calcula a média das notas usando a fórmula (nota1 + nota2) / 2;</li>\n",
    "<li>\n",
    "Usa uma sequência de condicionais if, elif e else para verificar a média e imprimir a mensagem correspondente na tela.\n",
    "</li>"
   ]
  },
  {
   "cell_type": "markdown",
   "id": "57f072de",
   "metadata": {},
   "source": [
    "## 6) Faça um Programa que leia três números e mostre o maior deles"
   ]
  },
  {
   "cell_type": "code",
   "execution_count": 12,
   "id": "9e7030de",
   "metadata": {},
   "outputs": [
    {
     "name": "stdout",
     "output_type": "stream",
     "text": [
      "Digite o primeiro número: 0\n",
      "Digite o segundo número: 2\n",
      "Digite o terceiro número: 1\n",
      "O maior número é: 2.0\n"
     ]
    }
   ],
   "source": [
    "num1 = float(input(\"Digite o primeiro número: \"))\n",
    "num2 = float(input(\"Digite o segundo número: \"))\n",
    "num3 = float(input(\"Digite o terceiro número: \"))\n",
    "\n",
    "if num1 > num2 and num1 > num3:\n",
    "    maior = num1\n",
    "elif num2 > num1 and num2 > num3:\n",
    "    maior = num2\n",
    "else:\n",
    "    maior = num3\n",
    "\n",
    "print(\"O maior número é:\", maior)"
   ]
  },
  {
   "cell_type": "markdown",
   "id": "78c15d39",
   "metadata": {},
   "source": [
    "<h3 align=center>Explicação do código</h3>\n",
    "<br>\n",
    "<li>\n",
    "Pede ao usuário para digitar três números usando a função input() e converte os valores para float usando a função float();\n",
    "</li>\n",
    "<li>Usa uma sequência de condicionais if, elif e else para comparar os três números e encontrar o maior;</li>\n",
    "<li>Atribui o valor do maior número à variável maior;</li>\n",
    "<li>Usa a função print() para mostrar o resultado na tela.</li>"
   ]
  },
  {
   "cell_type": "markdown",
   "id": "b82a7d00",
   "metadata": {},
   "source": [
    "## 7) Faça um Programa que leia três números e mostre o maior e o menor deles "
   ]
  },
  {
   "cell_type": "code",
   "execution_count": 13,
   "id": "6f204c84",
   "metadata": {},
   "outputs": [
    {
     "name": "stdout",
     "output_type": "stream",
     "text": [
      "Digite o primeiro número: 11\n",
      "Digite o segundo número: 21\n",
      "Digite o terceiro número: 22\n",
      "O maior número é: 22.0\n",
      "O menor número é: 11.0\n"
     ]
    }
   ],
   "source": [
    "num1 = float(input(\"Digite o primeiro número: \"))\n",
    "num2 = float(input(\"Digite o segundo número: \"))\n",
    "num3 = float(input(\"Digite o terceiro número: \"))\n",
    "\n",
    "# encontra o maior e o menor número usando funções do Python\n",
    "maior = max(num1, num2, num3)\n",
    "menor = min(num1, num2, num3)\n",
    "\n",
    "print(\"O maior número é:\", maior)\n",
    "print(\"O menor número é:\", menor)"
   ]
  },
  {
   "cell_type": "markdown",
   "id": "4f8c9cb5",
   "metadata": {},
   "source": [
    "<h3 align=center>Explicação do código</h3>\n",
    "<br>\n",
    "<li>\n",
    "Pede ao usuário para digitar três números usando a função input() e converte os valores para float usando a função float(). \n",
    "</li>\n",
    "<li>Usa as funções max() e min() do Python para encontrar o maior e o menor número, respectivamente. Essas funções recebem como argumento uma sequência de números e retornam o maior e o menor valor dessa sequência.</li>\n",
    "<li>Atribui o valor do maior número à variável maior e o valor do menor número à variável menor.</li>\n",
    "<li>Usa a função print() para mostrar o resultado na tela.</li>"
   ]
  },
  {
   "cell_type": "markdown",
   "id": "d4e49d34",
   "metadata": {},
   "source": [
    "## 8) Faça um programa que pergunte o preço de três produtos e informe qual produto você deve comprar, sabendo que a decisão é sempre pelo mais barato."
   ]
  },
  {
   "cell_type": "code",
   "execution_count": 14,
   "id": "7cc7e508",
   "metadata": {},
   "outputs": [
    {
     "name": "stdout",
     "output_type": "stream",
     "text": [
      "Digite o preço do primeiro produto: 100\n",
      "Digite o preço do segundo produto: 200\n",
      "Digite o preço do terceiro produto: 101\n",
      "Você deve comprar o primeiro produto.\n"
     ]
    }
   ],
   "source": [
    "preco1 = float(input(\"Digite o preço do primeiro produto: \"))\n",
    "preco2 = float(input(\"Digite o preço do segundo produto: \"))\n",
    "preco3 = float(input(\"Digite o preço do terceiro produto: \"))\n",
    "\n",
    "# encontra o menor preço usando a função min() do Python\n",
    "menor_preco = min(preco1, preco2, preco3)\n",
    "\n",
    "if menor_preco == preco1:\n",
    "    print(\"Você deve comprar o primeiro produto.\")\n",
    "elif menor_preco == preco2:\n",
    "    print(\"Você deve comprar o segundo produto.\")\n",
    "else:\n",
    "    print(\"Você deve comprar o terceiro produto.\")"
   ]
  },
  {
   "cell_type": "markdown",
   "id": "8387b865",
   "metadata": {},
   "source": [
    "<h3 align=center>Explicação do código</h3>\n",
    "<br>\n",
    "<li>Pede ao usuário para digitar o preço de três produtos usando a função input() e converte os valores para float usando a função float();</li>\n",
    "<li>Usa a função min() do Python para encontrar o menor preço entre os três produtos; </li>\n",
    "<li>\n",
    "Usa uma sequência de condicionais if, elif e else para verificar qual produto tem o menor preço e mostrar o resultado na tela.\n",
    "</li>"
   ]
  },
  {
   "cell_type": "markdown",
   "id": "280f30f5",
   "metadata": {},
   "source": [
    "## 9) Faça um Programa que leia três números e mostre-os em ordem decrescente"
   ]
  },
  {
   "cell_type": "code",
   "execution_count": 15,
   "id": "c7ee7bb8",
   "metadata": {},
   "outputs": [
    {
     "name": "stdout",
     "output_type": "stream",
     "text": [
      "Digite o primeiro número: 0.1\n",
      "Digite o segundo número: 0.2\n",
      "Digite o terceiro número: 0.5\n",
      "Os números em ordem decrescente são: [0.5, 0.2, 0.1]\n"
     ]
    }
   ],
   "source": [
    "num1 = float(input(\"Digite o primeiro número: \"))\n",
    "num2 = float(input(\"Digite o segundo número: \"))\n",
    "num3 = float(input(\"Digite o terceiro número: \"))\n",
    "\n",
    "# cria uma lista com os três números e ordena em ordem decrescente\n",
    "numeros = [num1, num2, num3]\n",
    "numeros.sort(reverse=True)\n",
    "\n",
    "print(\"Os números em ordem decrescente são:\", numeros)\n"
   ]
  },
  {
   "cell_type": "markdown",
   "id": "89821de7",
   "metadata": {},
   "source": [
    "<h3 align=center>Explicação do código</h3>\n",
    "<br>\n",
    "<li>Pede ao usuário para digitar três números usando a função input() e converte os valores para float usando a função float();</li>\n",
    "<li>Cria uma lista chamada numeros com os três números informados pelo usuário;</li>\n",
    "<li>Usa o método sort() da lista para ordenar os números em ordem decrescente, usando o argumento reverse=True;</li>\n",
    "<li>Usa a função print() para mostrar os números em ordem decrescente na tela.</li>"
   ]
  },
  {
   "cell_type": "markdown",
   "id": "714dfb41",
   "metadata": {},
   "source": [
    "## 10) Faça um Programa que pergunte em que turno você estuda. Peça para digitar M-matutino ou V-Vespertino ou N- Noturno. Imprima a mensagem \"Bom Dia!\", \"Boa Tarde!\" ou \"Boa Noite!\" ou \"Valor Inválido!\", conforme o caso."
   ]
  },
  {
   "cell_type": "code",
   "execution_count": 16,
   "id": "24ac9d19",
   "metadata": {
    "scrolled": true
   },
   "outputs": [
    {
     "name": "stdout",
     "output_type": "stream",
     "text": [
      "Em que turno você estuda? Digite M para matutino, V para vespertino ou N para noturno: V\n",
      "Boa Tarde!\n"
     ]
    }
   ],
   "source": [
    "turno = input(\"Em que turno você estuda? Digite M para matutino, V para vespertino ou N para noturno: \")\n",
    "\n",
    "if turno == \"M\":\n",
    "    print(\"Bom Dia!\")\n",
    "elif turno == \"V\":\n",
    "    print(\"Boa Tarde!\")\n",
    "elif turno == \"N\":\n",
    "    print(\"Boa Noite!\")\n",
    "else:\n",
    "    print(\"Valor Inválido!\")"
   ]
  },
  {
   "cell_type": "markdown",
   "id": "df0cf94c",
   "metadata": {},
   "source": [
    "<h3 align=center>Explicação do código</h3>\n",
    "<br>\n",
    "<li>Pede ao usuário para informar o turno de estudos usando a função input().</li>\n",
    "<li>Usa uma sequência de condicionais if, elif e else para verificar o valor do turno informado pelo usuário e imprimir a mensagem correspondente na tela.</li>"
   ]
  },
  {
   "cell_type": "markdown",
   "id": "f81e434e",
   "metadata": {},
   "source": [
    "## 11) As Organizações Tabajara resolveram dar um aumento de salário aos seus colaboradores e lhe contraram para desenvolver o programa que calculará os reajustes\n",
    "<p>\n",
    "    o Faça um programa que recebe o salário de um colaborador e o reajuste segundo o \n",
    "seguinte critério, baseado no salário atual: <br>\n",
    "o salários até R$ 280,00 (incluindo) : aumento de 20% <br>\n",
    "o salários entre R$ 280,00 e R$ 700,00 : aumento de 15% <br>\n",
    "o salários entre R$ 700,00 e R$ 1500,00 : aumento de 10% <br>\n",
    "o salários de R$ 1500,00 em diante : aumento de 5% Após o aumento ser realizado, \n",
    "informe na tela: <br>\n",
    "o o salário antes do reajuste; <br>\n",
    "o o percentual de aumento aplicado; <br>\n",
    "o o valor do aumento; <br>\n",
    "o o novo salário, após o aumento <br>\n",
    "</p>"
   ]
  },
  {
   "cell_type": "code",
   "execution_count": 17,
   "id": "60cbf180",
   "metadata": {
    "scrolled": true
   },
   "outputs": [
    {
     "name": "stdout",
     "output_type": "stream",
     "text": [
      "Digite o salário do colaborador: 1700\n",
      "Salário antes do reajuste: R$ 1700.00\n",
      "Percentual de aumento aplicado: 5%\n",
      "Valor do aumento: R$ 85.00\n",
      "Novo salário após o aumento: R$ 1785.00\n"
     ]
    }
   ],
   "source": [
    "salario = float(input(\"Digite o salário do colaborador: \"))\n",
    "\n",
    "if salario <= 280:\n",
    "    percentual_aumento = 20\n",
    "elif salario <= 700:\n",
    "    percentual_aumento = 15\n",
    "elif salario <= 1500:\n",
    "    percentual_aumento = 10\n",
    "else:\n",
    "    percentual_aumento = 5\n",
    "\n",
    "valor_aumento = salario * percentual_aumento / 100\n",
    "novo_salario = salario + valor_aumento\n",
    "\n",
    "print(f\"Salário antes do reajuste: R$ {salario:.2f}\")\n",
    "print(f\"Percentual de aumento aplicado: {percentual_aumento}%\")\n",
    "print(f\"Valor do aumento: R$ {valor_aumento:.2f}\")\n",
    "print(f\"Novo salário após o aumento: R$ {novo_salario:.2f}\")"
   ]
  },
  {
   "cell_type": "markdown",
   "id": "43d12bc0",
   "metadata": {},
   "source": [
    "<h3 align=center>Explicando o código</h3>\n",
    "<br>\n",
    "<li>\n",
    "O programa começa lendo o salário do colaborador do usuário usando a função input() e convertendo o resultado para um número decimal usando a função float().\n",
    "</li>\n",
    "<li>Em seguida, um conjunto de instruções if-elif-else é usado para determinar o percentual de aumento com base no salário atual. O primeiro bloco if testa se o salário é menor ou igual a 280 e, se for, define percentual_aumento como 20. O próximo bloco elif testa se o salário está entre 280 e 700 (inclusive) e, se for, define percentual_aumento como 15. O terceiro bloco elif testa se o salário está entre 700 e 1500 (inclusive) e, se for, define percentual_aumento como 10. Finalmente, se nenhuma das condições anteriores for verdadeira, o bloco else define percentual_aumento como 5.</li>\n",
    "<li>O valor do aumento é calculado multiplicando o salário pelo percentual de aumento e dividindo por 100.</li>\n",
    "<li>O novo salário é calculado somando o salário original ao valor do aumento.</li>\n",
    "<li>Por fim, o programa exibe as informações solicitadas na tela usando a função print(), com formatação de strings para exibir os valores numéricos com duas casas decimais (:.2f).</li>"
   ]
  },
  {
   "cell_type": "markdown",
   "id": "7378ccd5",
   "metadata": {},
   "source": [
    "## 12) Faça um programa para o cálculo de uma folha de pagamento, sabendo que os descontos são do Imposto de Renda, que depende do salário bruto (conforme tabela abaixo) e 3% para o Sindicato e que o FGTS corresponde a 11% do Salário Bruto, mas não é descontado (é a empresa que deposita). O Salário Líquido corresponde ao Salário Bruto menos os descontos. \n",
    "<h4>O programa deverá pedir ao usuário o valor da sua hora e a quantidade de horas trabalhadas no mês.</h4>\n",
    "<br>\n",
    "<li>Desconto do IR:</li>\n",
    "<li>Salário Bruto até 900 (inclusive) - isento</li>\n",
    "<li>Salário Bruto até 1500 (inclusive) - desconto de cinco por cento</li>\n",
    "<li>o Salário Bruto até 2500 (inclusive) - desconto de dez por cento</li>\n",
    "<li>\n",
    "Salário Bruto acima de 2500 - desconto de vinte por cento Imprima na tela as informações, \n",
    "dispostas conforme o exemplo abaixo. No exemplo o valor da hora é 5 e a quantidade de \n",
    "hora é 220;\n",
    "</li>\n",
    "<li>Salário Bruto: (5 * 220): 1100,00</li>\n",
    "<li>(-) IR (5) : 55,00 </li>\n",
    "<li> (-) INSS (10) : 110,00</li>\n",
    "<li>FGTS (11) : 121,00</li>\n",
    "<li>\n",
    "Total de descontos : 165,00\n",
    "</li>\n",
    "<li>Salário Liquido : R$ 935,00</li>"
   ]
  },
  {
   "cell_type": "code",
   "execution_count": 20,
   "id": "69621556",
   "metadata": {},
   "outputs": [
    {
     "name": "stdout",
     "output_type": "stream",
     "text": [
      "Digite o valor da sua hora de trabalho: 100\n",
      "Digite a quantidade de horas trabalhadas no mês: 40\n",
      "Salário Bruto: R$ 4000.00\n",
      "(-) IR (20%) : R$ 800.00\n",
      "(-) Sindicato ( 3%) : R$ 120.00\n",
      "FGTS (11%) : R$ 440.00\n",
      "Total de descontos : R$ 920.00\n",
      "Salário Liquido : R$ 3080.00\n"
     ]
    }
   ],
   "source": [
    "valor_hora = float(input(\"Digite o valor da sua hora de trabalho: \"))\n",
    "horas_trabalhadas = float(input(\"Digite a quantidade de horas trabalhadas no mês: \"))\n",
    "\n",
    "salario_bruto = valor_hora * horas_trabalhadas\n",
    "fgts = salario_bruto * 11 / 100\n",
    "sindicato = salario_bruto * 3 / 100\n",
    "\n",
    "if salario_bruto <= 900:\n",
    "    ir = 0\n",
    "elif salario_bruto <= 1500:\n",
    "    ir = salario_bruto * 5 / 100\n",
    "elif salario_bruto <= 2500:\n",
    "    ir = salario_bruto * 10 / 100\n",
    "else:\n",
    "    ir = salario_bruto * 20 / 100\n",
    "\n",
    "total_descontos = ir + sindicato\n",
    "salario_liquido = salario_bruto - total_descontos\n",
    "\n",
    "print(f\"Salário Bruto: R$ {salario_bruto:.2f}\")\n",
    "print(f\"(-) IR ({ir*100/salario_bruto:.0f}%) : R$ {ir:.2f}\")\n",
    "print(f\"(-) Sindicato ( 3%) : R$ {sindicato:.2f}\")\n",
    "print(f\"FGTS (11%) : R$ {fgts:.2f}\")\n",
    "print(f\"Total de descontos : R$ {total_descontos:.2f}\")\n",
    "print(f\"Salário Liquido : R$ {salario_liquido:.2f}\")"
   ]
  },
  {
   "cell_type": "markdown",
   "id": "b2724105",
   "metadata": {},
   "source": [
    "<h3 align=center>Explicando o código</h3>\n",
    "<br>\n",
    "<li>O programa começa lendo o valor da hora de trabalho e a quantidade de horas trabalhadas do usuário usando a função input() e convertendo os resultados para números decimais usando a função float();</li>\n",
    "<li>Em seguida, o salário bruto é calculado multiplicando o valor da hora pelo número de horas trabalhadas. O FGTS é calculado como 11% do salário bruto, e o valor do sindicato é calculado como 3% do salário bruto;</li>\n",
    "<li>Um conjunto de instruções if-elif-else é usado para determinar o desconto de IR com base no salário bruto. O primeiro bloco if testa se o salário é menor ou igual a 900 e, se for, define ir como zero. O próximo bloco elif testa se o salário está entre 900 e 1500 (inclusive) e, se for, define ir como 5% do salário bruto. O terceiro bloco elif testa se o salário está entre 1500 e 2500 (inclusive) e, se for, define ir como 10% do salário bruto. Finalmente, se nenhuma das condições anteriores for verdadeira, o bloco else define ir como 20% do salário bruto;</li>\n",
    "<li>O total de descontos é calculado somando o valor do IR ao valor do sindicato;</li>\n",
    "<li>O salário líquido é calculado subtraindo o total de descontos do salário bruto;</li>\n",
    "<li>Por fim, o programa exibe as informações solicitadas na tela usando a função print(), com formatação de strings para exibir os valores numéricos com duas casas decimais (:.2f).</li>"
   ]
  },
  {
   "cell_type": "markdown",
   "id": "4473c2c7",
   "metadata": {},
   "source": [
    "## 13) Faça um Programa que leia um número e exiba o dia correspondente da semana. (1 Domingo, 2- Segunda, etc.), se digitar outro valor deve aparecer valor inválido"
   ]
  },
  {
   "cell_type": "code",
   "execution_count": 21,
   "id": "7c35fd80",
   "metadata": {},
   "outputs": [
    {
     "name": "stdout",
     "output_type": "stream",
     "text": [
      "Digite um número de 1 a 7: 3\n",
      "Terça-feira\n"
     ]
    }
   ],
   "source": [
    "numero = int(input(\"Digite um número de 1 a 7: \"))\n",
    "\n",
    "if numero == 1:\n",
    "    print(\"Domingo\")\n",
    "elif numero == 2:\n",
    "    print(\"Segunda-feira\")\n",
    "elif numero == 3:\n",
    "    print(\"Terça-feira\")\n",
    "elif numero == 4:\n",
    "    print(\"Quarta-feira\")\n",
    "elif numero == 5:\n",
    "    print(\"Quinta-feira\")\n",
    "elif numero == 6:\n",
    "    print(\"Sexta-feira\")\n",
    "elif numero == 7:\n",
    "    print(\"Sábado\")\n",
    "else:\n",
    "    print(\"Valor inválido.\")"
   ]
  },
  {
   "cell_type": "markdown",
   "id": "cdfecdd2",
   "metadata": {},
   "source": [
    "<h3 align=center>Explicando código</h3>\n",
    "<br>\n",
    "<li>\n",
    "Neste código, o usuário é solicitado a digitar um número de 1 a 7 e o programa utiliza uma estrutura condicional para exibir o dia da semana correspondente, ou a mensagem \"Valor inválido\" caso o número digitado esteja fora do intervalo esperado.\n",
    "</li>"
   ]
  },
  {
   "cell_type": "markdown",
   "id": "fb9ee867",
   "metadata": {},
   "source": [
    "## 14) Faça um programa que lê as duas notas parciais obtidas por um aluno numa disciplina ao longo de um semestre, e calcule a sua média. A atribuição de conceitos obedece à tabela abaixo:\n",
    "<br>\n",
    "<h3>Média de Aproveitamento Conceito</h3>\n",
    "<br>\n",
    "<li>Entre 9.0 e 10.0 A</li>\n",
    "<li>Entre 7.5 e 9.0 B</li>\n",
    "<li>Entre 6.0 e 7.5 C</li>\n",
    "<li>Entre 4.0 e 6.0 D</li>\n",
    "<li>Entre 4.0 e zero E</li>\n",
    "<li>algoritmo deve mostrar na tela as notas, a média, o conceito correspondente e a \n",
    "mensagem “APROVADO” se o conceito for A, B ou C ou “REPROVADO” se o conceito \n",
    "for D ou E.</li>\n"
   ]
  },
  {
   "cell_type": "code",
   "execution_count": null,
   "id": "27ff39d3",
   "metadata": {},
   "outputs": [],
   "source": [
    "nota1 = float(input(\"Digite a primeira nota: \"))\n",
    "nota2 = float(input(\"Digite a segunda nota: \"))\n",
    "\n",
    "media = (nota1 + nota2) / 2\n",
    "\n",
    "if media >= 9.0:\n",
    "    conceito = \"A\"\n",
    "elif media >= 7.5:\n",
    "    conceito = \"B\"\n",
    "elif media >= 6.0:\n",
    "    conceito = \"C\"\n",
    "elif media >= 4.0:\n",
    "    conceito = \"D\"\n",
    "else:\n",
    "    conceito = \"E\"\n",
    "\n",
    "print(\"Notas: %.1f e %.1f\" % (nota1, nota2))\n",
    "print(\"Média: %.1f\" % media)\n",
    "print(\"Conceito: %s\" % conceito)\n",
    "\n",
    "if conceito in [\"A\", \"B\", \"C\"]:\n",
    "    print(\"APROVADO\")\n",
    "else:\n",
    "    print(\"REPROVADO\")"
   ]
  },
  {
   "cell_type": "markdown",
   "id": "6ff6fd7b",
   "metadata": {},
   "source": [
    "<h3 align=center>Explicando código</h3>\n",
    "<li>\n",
    "Neste código, as notas são lidas do usuário e a média é calculada. Em seguida, o programa utiliza uma estrutura condicional para determinar o conceito correspondente à média. Por fim, o programa exibe as notas, a média e o conceito, além de imprimir \"APROVADO\" ou \"REPROVADO\" dependendo do conceito obtido.\n",
    "</li>"
   ]
  },
  {
   "cell_type": "markdown",
   "id": "aad61faa",
   "metadata": {},
   "source": [
    "## 15) Faça um Programa que peça os 3 lados de um triângulo. O programa deverá informar se os valores podem ser um triângulo. Indique, caso os lados formem um triângulo, se o mesmo é: equilátero, isósceles ou escaleno.\n",
    "\n",
    "<ul>\n",
    "  <h3>Dicas:</h3>\n",
    "  <li>Três lados formam um triângulo quando a soma de quaisquer dois lados for maior que o \n",
    "    terceiro;</li>\n",
    "  <li>Triângulo Equilátero: três lados iguais;</li>\n",
    "  <li>Triângulo Isósceles: quaisquer dois lados iguais;</li>\n",
    "  <li>Triângulo Escaleno: três lados diferentes;</li>\n",
    "</ul>"
   ]
  },
  {
   "cell_type": "code",
   "execution_count": 24,
   "id": "70727eb9",
   "metadata": {},
   "outputs": [
    {
     "name": "stdout",
     "output_type": "stream",
     "text": [
      "Digite o primeiro lado do triângulo: 10\n",
      "Digite o segundo lado do triângulo: 10\n",
      "Digite o terceiro lado do triângulo: 10\n",
      "É um triângulo equilátero.\n"
     ]
    }
   ],
   "source": [
    "lado1 = float(input(\"Digite o primeiro lado do triângulo: \"))\n",
    "lado2 = float(input(\"Digite o segundo lado do triângulo: \"))\n",
    "lado3 = float(input(\"Digite o terceiro lado do triângulo: \"))\n",
    "\n",
    "# Verifica se os lados formam um triângulo\n",
    "if lado1 + lado2 > lado3 and lado1 + lado3 > lado2 and lado2 + lado3 > lado1:\n",
    "    # Verifica se é um triângulo equilátero\n",
    "    if lado1 == lado2 and lado1 == lado3:\n",
    "        print(\"É um triângulo equilátero.\")\n",
    "    # Verifica se é um triângulo isósceles\n",
    "    elif lado1 == lado2 or lado1 == lado3 or lado2 == lado3:\n",
    "        print(\"É um triângulo isósceles.\")\n",
    "    # Se não for equilátero nem isósceles, só pode ser escaleno\n",
    "    else:\n",
    "        print(\"É um triângulo escaleno.\")\n",
    "else:\n",
    "    print(\"Os lados não formam um triângulo.\")"
   ]
  },
  {
   "cell_type": "markdown",
   "id": "6ef6c7e3",
   "metadata": {},
   "source": [
    "<h3 align=center>Explicando código</h3>\n",
    "<ul>\n",
    "  <li>Primeiro, o programa lê os valores dos três lados do triângulo e armazena em variáveis. Em seguida, verifica se os lados formam um triângulo, seguindo a regra: a soma de dois lados deve ser maior do que o terceiro. Se essa condição não for satisfeita, o programa informa que não é possível formar um triângulo com os lados informados.</li>\n",
    "  <li>Se os lados formarem um triângulo, o programa verifica se é um triângulo equilátero, comparando os três lados. Caso contrário, verifica se é um triângulo isósceles, comparando dois lados quaisquer. Se não for nem equilátero nem isósceles, só pode ser escaleno.</li>\n",
    "  <li>O programa então imprime a mensagem correspondente ao tipo de triângulo encontrado, ou informa que os lados não formam um triângulo.</li>\n",
    "</ul>"
   ]
  },
  {
   "cell_type": "markdown",
   "id": "ccc56141",
   "metadata": {},
   "source": [
    "## 16) Faça um programa que calcule as raízes de uma equação do segundo grau, na forma ax2 + bx + c. O programa deverá pedir os valores de a, b e c e fazer as consistências, informando ao usuário nas seguintes situações:\n",
    "\n",
    "\n",
    "<ul>\n",
    "  <li>Se o usuário informar o valor de A igual a zero, a equação não é do segundo grau e o\n",
    "    programa não deve fazer pedir os demais valores, sendo encerrado;</li>\n",
    "  <li>Se o delta calculado for negativo, a equação não possui raizes reais. Informe ao usuário\n",
    "    e encerre o programa;</li>\n",
    "  <li>Se o delta calculado for igual a zero a equação possui apenas uma raiz real; informe-a\n",
    "    ao usuário;</li>\n",
    "  <li>Se o delta for positivo, a equação possui duas raiz reais; informe-as ao usuário;</li>\n",
    "</ul>"
   ]
  },
  {
   "cell_type": "code",
   "execution_count": 27,
   "id": "f4d7c626",
   "metadata": {},
   "outputs": [
    {
     "name": "stdout",
     "output_type": "stream",
     "text": [
      "Digite o valor de a: 2\n",
      "Digite o valor de b: -5\n",
      "Digite o valor de c: 0\n",
      "A equação possui duas raízes reais: 2.50 e 0.00\n"
     ]
    }
   ],
   "source": [
    "import math\n",
    "\n",
    "a = float(input(\"Digite o valor de a: \"))\n",
    "\n",
    "if a == 0:\n",
    "    print(\"O valor de a não pode ser igual a zero. Encerrando o programa.\")\n",
    "else:\n",
    "    b = float(input(\"Digite o valor de b: \"))\n",
    "    c = float(input(\"Digite o valor de c: \"))\n",
    "    delta = b**2 - 4*a*c\n",
    "    \n",
    "    if delta < 0:\n",
    "        print(\"A equação não possui raízes reais.\")\n",
    "    elif delta == 0:\n",
    "        raiz = -b / (2*a)\n",
    "        print(f\"A equação possui uma raiz real: {raiz:.2f}\")\n",
    "    else:\n",
    "        raiz1 = (-b + math.sqrt(delta)) / (2*a)\n",
    "        raiz2 = (-b - math.sqrt(delta)) / (2*a)\n",
    "        print(f\"A equação possui duas raízes reais: {raiz1:.2f} e {raiz2:.2f}\")"
   ]
  },
  {
   "cell_type": "markdown",
   "id": "c54181a1",
   "metadata": {},
   "source": [
    "<h3 align=\"center\">Explicando código</h3>\n",
    "\n",
    "<ul>\n",
    "  <li>O programa começa pedindo o valor de a. Se a for igual a zero, o programa não prossegue e é encerrado. Caso\n",
    "    contrário, o programa pede os valores de b e c, calcula o delta e verifica em qual dos casos descritos acima a\n",
    "    equação se enquadra, informando as raízes (caso existam) ou uma mensagem informando que a equação não possui raízes\n",
    "    reais. </li>\n",
    "  <li>Note que para calcular a raiz quadrada do delta, utilizei a função sqrt do módulo math. Além disso, utilizamos o\n",
    "    f-string para formatar as mensagens de saída e exibir as raízes com duas casas decimais</li>\n",
    "</ul>"
   ]
  },
  {
   "cell_type": "markdown",
   "id": "2fb8b6ac",
   "metadata": {},
   "source": [
    "## 17) Faça um Programa que peça um número correspondente a um determinado ano e em seguida informe se este ano é ou não bissexto."
   ]
  },
  {
   "cell_type": "code",
   "execution_count": 31,
   "id": "5796cbf3",
   "metadata": {},
   "outputs": [
    {
     "name": "stdout",
     "output_type": "stream",
     "text": [
      "Digite o ano: 2500\n",
      "O ano 2500 não é bissexto.\n"
     ]
    }
   ],
   "source": [
    "ano = int(input(\"Digite o ano: \"))\n",
    "\n",
    "if ano % 4 == 0 and (ano % 100 != 0 or ano % 400 == 0):\n",
    "    print(f\"O ano {ano} é bissexto.\")\n",
    "else:\n",
    "    print(f\"O ano {ano} não é bissexto.\")"
   ]
  },
  {
   "cell_type": "markdown",
   "id": "33acac8a",
   "metadata": {},
   "source": [
    "<h3 align=\"center\">Explicando código</h3>\n",
    "\n",
    "<ul>\n",
    "  <li>O programa começa lendo um número correspondente a um ano do usuário e armazenando-o na variável ano. Em seguida,\n",
    "    ele usa a expressão ano % 4 == 0 para verificar se o ano é divisível por 4. Se for, ele verifica se o ano não é\n",
    "    divisível por 100 (ano % 100 != 0) ou se é divisível por 400 (ano % 400 == 0);</li>\n",
    "  <li> Se uma dessas condições for verdadeira, o ano é considerado bissexto e o programa exibe a mensagem correspondente. Caso contrário, o programa informa que o ano não é bissexto.</li>\n",
    "</ul>"
   ]
  },
  {
   "cell_type": "markdown",
   "id": "e1280916",
   "metadata": {},
   "source": [
    "## 18) Faça um Programa que peça uma data no formato dd/mm/aaaa e determine se a mesma é uma data válida."
   ]
  },
  {
   "cell_type": "code",
   "execution_count": 32,
   "id": "f1b5ed87",
   "metadata": {},
   "outputs": [
    {
     "name": "stdout",
     "output_type": "stream",
     "text": [
      "Digite uma data no formato dd/mm/aaaa: 12/12/2000\n",
      "Data válida.\n"
     ]
    }
   ],
   "source": [
    "data = input('Digite uma data no formato dd/mm/aaaa: ')\n",
    "\n",
    "\n",
    "dia, mes, ano = map(int, data.split('/'))\n",
    "\n",
    "\n",
    "if ((ano % 4 == 0) and (ano % 100 != 0)) or (ano % 400 == 0):\n",
    "    bissexto = True\n",
    "else:\n",
    "    bissexto = False\n",
    "    \n",
    "if mes < 1 or mes > 12:\n",
    "    print('Data inválida.')\n",
    "    exit()\n",
    "\n",
    "\n",
    "if mes == 2:\n",
    "    if bissexto:\n",
    "        dias_max = 29\n",
    "    else:\n",
    "        dias_max = 28\n",
    "elif mes in [4, 6, 9, 11]:\n",
    "    dias_max = 30\n",
    "else:\n",
    "    dias_max = 31\n",
    "\n",
    "if dia < 1 or dia > dias_max:\n",
    "    print('Data inválida.')\n",
    "    exit()\n",
    "\n",
    "print('Data válida.')"
   ]
  },
  {
   "cell_type": "markdown",
   "id": "0d2f3a35",
   "metadata": {},
   "source": [
    "<h3 align=\"center\">Explicando código</h3>\n",
    "\n",
    "<ul>\n",
    "  <li>O programa primeiro lê a data no formato dd/mm/aaaa e separa em dia, mês e ano. Em seguida, verifica se o ano é\n",
    "    bissexto ou não. Depois, verifica se o mês é válido e, por fim, verifica se o dia é válido para o mês. Se a data for\n",
    "    válida, o programa imprime \"Data válida\". Caso contrário, imprime \"Data inválida\".</li>\n",
    "</ul>"
   ]
  },
  {
   "cell_type": "markdown",
   "id": "6deaf33c",
   "metadata": {},
   "source": [
    "## 19) Faça um Programa que leia um número inteiro menor que 1000 e imprima a quantidade de centenas, dezenas e unidades do mesmo.\n",
    "\n",
    "\n",
    "<ul>\n",
    "  <li> Observando os termos no plural a colocação do \"e\", da vírgula entre outros. </li>\n",
    "  <li>Exemplo: 326 = 3 centenas, 2 dezenas e 6 unidades</li>\n",
    "  <li>12 = 1 dezena e 2 unidades Testar com: 326, 300, 100, 320, 310,305, 301, 101, 311, 111,\n",
    "    25, 20, 10, 21, 11, 1, 7 e 16</li>\n",
    "</ul>"
   ]
  },
  {
   "cell_type": "code",
   "execution_count": 33,
   "id": "77e25823",
   "metadata": {},
   "outputs": [
    {
     "name": "stdout",
     "output_type": "stream",
     "text": [
      "Digite um número inteiro menor que 1000: 20\n",
      "2 dezena(s)\n"
     ]
    }
   ],
   "source": [
    "numero = int(input(\"Digite um número inteiro menor que 1000: \"))\n",
    "\n",
    "if numero >= 1000:\n",
    "    print(\"Número inválido!\")\n",
    "else:\n",
    "    centenas = numero // 100\n",
    "    dezenas = (numero % 100) // 10\n",
    "    unidades = numero % 10\n",
    "\n",
    "    texto = \"\"\n",
    "\n",
    "    if centenas > 0:\n",
    "        texto += str(centenas) + \" centena(s), \"\n",
    "\n",
    "    if dezenas > 0:\n",
    "        if centenas > 0 and unidades > 0:\n",
    "            texto += str(dezenas) + \" dezena(s) e \"\n",
    "        elif centenas > 0 or unidades > 0:\n",
    "            texto += str(dezenas) + \" dezena(s) e \"\n",
    "        else:\n",
    "            texto += str(dezenas) + \" dezena(s)\"\n",
    "\n",
    "    if unidades > 0:\n",
    "        if centenas > 0 or dezenas > 0:\n",
    "            texto += str(unidades) + \" unidade(s)\"\n",
    "        else:\n",
    "            texto += str(unidades) + \" unidade(s)\"\n",
    "\n",
    "    print(texto)"
   ]
  },
  {
   "cell_type": "markdown",
   "id": "03a54958",
   "metadata": {},
   "source": [
    "<h3 align=\"center\">Explicando código</h3>\n",
    "\n",
    "<ul>\n",
    "  <li>O programa começa lendo um número inteiro digitado pelo usuário e verificando se ele é maior ou igual a 1000. Caso\n",
    "    seja, o programa imprime uma mensagem de erro e encerra a execução. Caso contrário, o programa calcula a quantidade\n",
    "    de centenas, dezenas e unidades do número, utilizando a operação de divisão inteira e o operador módulo. Em seguida,\n",
    "    o programa constrói uma string de texto, verificando a quantidade de cada uma das unidades e adicionando o texto\n",
    "    correspondente. Note que o programa faz a verificação da quantidade de unidades para decidir se deve ou não incluir\n",
    "    a palavra \"e\" na construção do texto;</li>\n",
    "  <li>Por fim, o programa imprime o texto construído. O resultado pode ser testado com os números fornecidos no\n",
    "    enunciado ou com qualquer outro número inteiro menor que 1000.</li>\n",
    "\n",
    "</ul>"
   ]
  },
  {
   "cell_type": "markdown",
   "id": "0b18a4df",
   "metadata": {},
   "source": [
    "## 20) Faça um Programa para leitura de três notas parciais de um aluno. O programa deve calcular a média alcançada por aluno e presentar:\n",
    "<li>A mensagem \"Aprovado\", se a média for maior ou igual a 7, com a respectiva média\n",
    "alcançada;</li>\n",
    "<li>A mensagem \"Reprovado\", se a média for menor do que 7, com a respectiva média\n",
    "alcançada;</li>\n",
    "<li>A mensagem \"Aprovado com Distinção\", se a média for igual a 10;</li>\n"
   ]
  },
  {
   "cell_type": "code",
   "execution_count": 4,
   "id": "5320a20f",
   "metadata": {},
   "outputs": [
    {
     "name": "stdout",
     "output_type": "stream",
     "text": [
      "Digite a primeira nota: 10\n",
      "Digite a segunda nota: 10\n",
      "Digite a terceira nota: 2\n",
      "Aprovado. Média: 7.0\n"
     ]
    }
   ],
   "source": [
    "nota1 = float(input(\"Digite a primeira nota: \"))\n",
    "nota2 = float(input(\"Digite a segunda nota: \"))\n",
    "nota3 = float(input(\"Digite a terceira nota: \"))\n",
    "\n",
    "media = (nota1 + nota2 + nota3) // 3\n",
    "\n",
    "if media == 10:\n",
    "    print(\"Aprovado com Distinção. Média:\", media)\n",
    "elif media >= 7:\n",
    "    print(\"Aprovado. Média:\", media)\n",
    "else:\n",
    "    print(\"Reprovado. Média:\", media)"
   ]
  },
  {
   "cell_type": "markdown",
   "id": "c8a323f5",
   "metadata": {},
   "source": [
    "<h3 align=\"center\">Explicando código</h3>\n",
    "\n",
    "<ul>\n",
    "  <li>\n",
    "    O programa pede para o usuário digitar as três notas parciais, calcula a média e, em seguida, utiliza a estrutura condicional para verificar se o aluno foi aprovado, reprovado ou aprovado com distinção, apresentando a mensagem correspondente junto com a média alcançada.\n",
    "    </li>\n",
    "</ul>"
   ]
  },
  {
   "cell_type": "markdown",
   "id": "bc6845f0",
   "metadata": {},
   "source": [
    "## 21) Faça um Programa para um caixa eletrônico. O programa deverá perguntar ao usuário a valor do saque e depois informar quantas notas de cada valor serão fornecidas. As notas disponíveis serão as de 1, 5, 10, 50 e 100 reais. O valor mínimo é de 10 reais e o máximo de 600 reais. O programa não deve se preocupar com a quantidade de notas existentes na máquina.\n",
    "<br>\n",
    "<li>Exemplo 1: Para sacar a quantia de 256 reais, o programa fornece duas notas de 100,\n",
    "uma nota de 50, uma nota de 5 e uma nota de 1;</li>\n",
    "<li>Exemplo 2: Para sacar a quantia de 399 reais, o programa fornece três notas de 100,\n",
    "uma nota de 50, quatro notas de 10, uma nota de 5 e quatro notas de 1.</li>"
   ]
  },
  {
   "cell_type": "code",
   "execution_count": 6,
   "id": "fc37e316",
   "metadata": {},
   "outputs": [
    {
     "name": "stdout",
     "output_type": "stream",
     "text": [
      "Digite o valor do saque (entre R$ 10 e R$ 600): 550\n",
      "Notas de R$ 100: 5\n",
      "Notas de R$ 50: 1\n",
      "Notas de R$ 10: 0\n",
      "Notas de R$ 5: 0\n",
      "Notas de R$ 1: 0\n"
     ]
    }
   ],
   "source": [
    "valor = int(input(\"Digite o valor do saque (entre R$ 10 e R$ 600): \"))\n",
    "\n",
    "if valor < 10 or valor > 600:\n",
    "    print(\"Valor inválido!\")\n",
    "else:\n",
    "    notas_cem = valor // 100\n",
    "    valor = valor % 100\n",
    "\n",
    "    notas_cinquenta = valor // 50\n",
    "    valor = valor % 50\n",
    "\n",
    "    notas_dez = valor // 10\n",
    "    valor = valor % 10\n",
    "\n",
    "    notas_cinco = valor // 5\n",
    "    valor = valor % 5\n",
    "\n",
    "    notas_um = valor\n",
    "\n",
    "    print(\"Notas de R$ 100:\", notas_cem)\n",
    "    print(\"Notas de R$ 50:\", notas_cinquenta)\n",
    "    print(\"Notas de R$ 10:\", notas_dez)\n",
    "    print(\"Notas de R$ 5:\", notas_cinco)\n",
    "    print(\"Notas de R$ 1:\", notas_um)"
   ]
  },
  {
   "cell_type": "markdown",
   "id": "8dc902f2",
   "metadata": {},
   "source": [
    "<h3 align=\"center\">Explicando código</h3>\n",
    "\n",
    "<ul>\n",
    "  <li>\n",
    "O programa começa pedindo ao usuário que digite o valor do saque, que deve ser um número inteiro entre 10 e 600 reais. Em seguida, ele verifica se o valor está dentro do intervalo permitido;\n",
    "    </li>\n",
    "    <li>\n",
    "    Se o valor for válido, o programa calcula quantas notas de cada valor devem ser fornecidas para o saque. Para isso, ele utiliza a divisão inteira (//) para determinar quantas notas de cada valor cabem no valor total do saque. Em seguida, ele utiliza o operador de módulo (%) para obter o resto da divisão e calcular o valor que ainda deve ser sacado;\n",
    "    </li>\n",
    "    <li>\n",
    "    Finalmente, o programa imprime na tela a quantidade de notas de cada valor que devem ser fornecidas para o saque.\n",
    "    </li>\n",
    "</ul>"
   ]
  },
  {
   "cell_type": "markdown",
   "id": "e0efd5e7",
   "metadata": {},
   "source": [
    "## 22) Faça um Programa que peça um número inteiro e determine se ele é par ou impar. Dica: utilize o operador módulo (resto da divisão)"
   ]
  },
  {
   "cell_type": "code",
   "execution_count": 7,
   "id": "debeebc4",
   "metadata": {},
   "outputs": [
    {
     "name": "stdout",
     "output_type": "stream",
     "text": [
      "Digite um número inteiro: 22\n",
      "22 é um número par.\n"
     ]
    }
   ],
   "source": [
    "num = int(input(\"Digite um número inteiro: \"))\n",
    "\n",
    "if num % 2 == 0:\n",
    "    print(f\"{num} é um número par.\")\n",
    "else:\n",
    "    print(f\"{num} é um número ímpar.\")"
   ]
  },
  {
   "cell_type": "markdown",
   "id": "d54c09a4",
   "metadata": {},
   "source": [
    "<h3 align=center>Explicando código:</h3>\n",
    "<br>\n",
    "    <li>\n",
    "    O programa começa pedindo para o usuário digitar um número inteiro. Em seguida, o operador módulo % é utilizado para verificar se o resto da divisão do número por 2 é igual a zero. Se sim, o número é par e a mensagem correspondente é impressa na tela. Caso contrário, o número é ímpar e a mensagem correspondente é impressa na tela.\n",
    "    </li>"
   ]
  },
  {
   "cell_type": "markdown",
   "id": "a2515cf3",
   "metadata": {},
   "source": [
    "## 23) Faça um Programa que peça um número e informe se o número é inteiro ou decimal. Dica: utilize uma função de arredondamento."
   ]
  },
  {
   "cell_type": "code",
   "execution_count": 8,
   "id": "de7340f2",
   "metadata": {},
   "outputs": [
    {
     "name": "stdout",
     "output_type": "stream",
     "text": [
      "Digite um número: 201\n",
      "O número é inteiro.\n"
     ]
    }
   ],
   "source": [
    "import math\n",
    "\n",
    "num = float(input(\"Digite um número: \"))\n",
    "\n",
    "if num == math.floor(num) or num == math.ceil(num):\n",
    "    print(\"O número é inteiro.\")\n",
    "else:\n",
    "    print(\"O número é decimal.\")"
   ]
  },
  {
   "cell_type": "markdown",
   "id": "d846c2a4",
   "metadata": {},
   "source": [
    "<h3 align=center>Explicando código:</h3>\n",
    "<br>\n",
    "    <li>\n",
    "    O programa começa pedindo ao usuário para digitar um número. Em seguida, ele utiliza a função floor e ceil da biblioteca math para calcular as versões arredondadas para baixo e para cima do número, respectivamente. Se o número for igual a uma dessas versões, o programa imprime a mensagem \"O número é inteiro\", caso contrário, imprime \"O número é decimal\".\n",
    "    </li>"
   ]
  },
  {
   "cell_type": "markdown",
   "id": "e9a497b3",
   "metadata": {},
   "source": [
    "## 24) Faça um Programa que leia 2 números e em seguida pergunte ao usuário qual operação ele deseja realizar. O resultado da operação deve ser acompanhado de uma frase que diga se o número é:\n",
    "<br>\n",
    "<li>par ou ímpar;</li>\n",
    "<li>positivo ou negativo;</li>\n",
    "<li>inteiro ou decimal.</li>"
   ]
  },
  {
   "cell_type": "code",
   "execution_count": 10,
   "id": "32de7e35",
   "metadata": {},
   "outputs": [
    {
     "name": "stdout",
     "output_type": "stream",
     "text": [
      "Digite o primeiro número: 22\n",
      "Digite o segundo número: 10\n",
      "Qual operação deseja realizar (+, -, *, /): *\n",
      "O resultado da operação é: 220.0\n",
      "O resultado é par\n",
      "O resultado é positivo\n",
      "O resultado é inteiro\n"
     ]
    }
   ],
   "source": [
    "num1 = float(input(\"Digite o primeiro número: \"))\n",
    "num2 = float(input(\"Digite o segundo número: \"))\n",
    "\n",
    "operacao = input(\"Qual operação deseja realizar (+, -, *, /): \")\n",
    "\n",
    "if operacao == \"+\":\n",
    "    resultado = num1 + num2\n",
    "elif operacao == \"-\":\n",
    "    resultado = num1 - num2\n",
    "elif operacao == \"*\":\n",
    "    resultado = num1 * num2\n",
    "elif operacao == \"/\":\n",
    "    resultado = num1 / num2\n",
    "else:\n",
    "    print(\"Operação inválida\")\n",
    "    exit()\n",
    "\n",
    "print(\"O resultado da operação é:\", resultado)\n",
    "\n",
    "if resultado % 2 == 0:\n",
    "    print(\"O resultado é par\")\n",
    "else:\n",
    "    print(\"O resultado é ímpar\")\n",
    "\n",
    "if resultado >= 0:\n",
    "    print(\"O resultado é positivo\")\n",
    "else:\n",
    "    print(\"O resultado é negativo\")\n",
    "\n",
    "if round(resultado) == resultado:\n",
    "    print(\"O resultado é inteiro\")\n",
    "else:\n",
    "    print(\"O resultado é decimal\")"
   ]
  },
  {
   "cell_type": "markdown",
   "id": "1f93ad82",
   "metadata": {},
   "source": [
    "<h3 align=center>Explicando código:</h3>\n",
    "<br>\n",
    "    <li>\n",
    "Primeiramente, são lidos dois números fornecidos pelo usuário. Em seguida, o programa pergunta qual operação o usuário deseja realizar entre os números fornecidos e armazena a escolha na variável operacao;\n",
    "    </li>\n",
    "    <li>\n",
    "Dependendo da operação escolhida, o programa realiza o cálculo correspondente utilizando as variáveis num1 e num2, armazenando o resultado na variável resultado. Caso a operação seja inválida, uma mensagem de erro é exibida e o programa é encerrado;\n",
    "    </li>\n",
    "    <li>\n",
    "   Após o cálculo, são exibidas mensagens informando se o resultado é par ou ímpar, positivo ou negativo e inteiro ou decimal. Para verificar se o resultado é par, é feita uma verificação do resto da divisão por 2. Para verificar se é positivo ou negativo, é feita uma comparação com zero. E para verificar se é inteiro ou decimal, é utilizado a função de arredondamento round.\n",
    "    </li>"
   ]
  },
  {
   "cell_type": "markdown",
   "id": "67ea66b2",
   "metadata": {},
   "source": [
    "## 25) Faça um programa que faça 5 perguntas para uma pessoa sobre um crime. As perguntas são:\n",
    "<br>\n",
    "<li>\"Telefonou para a vítima?\"</li>\n",
    "<li>\"Esteve no local do crime?\"</li>\n",
    "<li>\"Mora perto da vítima?\"</li>\n",
    "<li> \"Devia para a vítima?\"</li>\n",
    "<li>\"Já trabalhou com a vítima?\"</li>\n",
    "<h4>\n",
    "O programa deve no final emitir uma classificação sobre a\n",
    "participação da pessoa no crime. Se a pessoa responder positivamente a 2 questões ela\n",
    "deve ser classificada como \"Suspeita\", entre 3 e 4 como \"Cúmplice\" e 5 como\n",
    "\"Assassino\". Caso contrário, ele será classificado como \"Inocente\".\n",
    "</h4>"
   ]
  },
  {
   "cell_type": "code",
   "execution_count": 11,
   "id": "838e7887",
   "metadata": {},
   "outputs": [
    {
     "name": "stdout",
     "output_type": "stream",
     "text": [
      "Responda às perguntas abaixo com S para sim e N para não:\n",
      "Telefonou para a vítima? N\n",
      "Esteve no local do crime? S\n",
      "Mora perto da vítima? S\n",
      "Devia para a vítima? S\n",
      "Já trabalhou com a vítima? N\n",
      "Cúmplice\n"
     ]
    }
   ],
   "source": [
    "print(\"Responda às perguntas abaixo com S para sim e N para não:\")\n",
    "resposta_a = input(\"Telefonou para a vítima? \")\n",
    "resposta_b = input(\"Esteve no local do crime? \")\n",
    "resposta_c = input(\"Mora perto da vítima? \")\n",
    "resposta_d = input(\"Devia para a vítima? \")\n",
    "resposta_e = input(\"Já trabalhou com a vítima? \")\n",
    "\n",
    "positivas = 0\n",
    "if resposta_a.upper() == 'S':\n",
    "    positivas += 1\n",
    "if resposta_b.upper() == 'S':\n",
    "    positivas += 1\n",
    "if resposta_c.upper() == 'S':\n",
    "    positivas += 1\n",
    "if resposta_d.upper() == 'S':\n",
    "    positivas += 1\n",
    "if resposta_e.upper() == 'S':\n",
    "    positivas += 1\n",
    "\n",
    "if positivas == 2:\n",
    "    print(\"Suspeita\")\n",
    "elif 3 <= positivas <= 4:\n",
    "    print(\"Cúmplice\")\n",
    "elif positivas == 5:\n",
    "    print(\"Assassino\")\n",
    "else:\n",
    "    print(\"Inocente\")"
   ]
  },
  {
   "cell_type": "markdown",
   "id": "73072a9f",
   "metadata": {},
   "source": [
    "<h3 align=center>Explicando código:</h3>\n",
    "<br>\n",
    "    <li>\n",
    "O programa começa pedindo que a pessoa responda às perguntas com \"S\" ou \"N\". Em seguida, as respostas são armazenadas em variáveis para serem contabilizadas. Cada resposta positiva (que foi respondida com \"S\") incrementa o valor da variável \"positivas\";\n",
    "    </li>\n",
    "    <li>\n",
    "   Depois disso, o programa verifica o valor da variável \"positivas\" para emitir a classificação correta da pessoa. Se ela respondeu positivamente a 2 questões, será classificada como \"Suspeita\". Se respondeu positivamente a 3 ou 4 questões, será classificada como \"Cúmplice\". Se respondeu positivamente a todas as perguntas, será classificada como \"Assassino\". Caso contrário, será classificada como \"Inocente\".\n",
    "    </li>"
   ]
  }
 ],
 "metadata": {
  "kernelspec": {
   "display_name": "Python 3 (ipykernel)",
   "language": "python",
   "name": "python3"
  },
  "language_info": {
   "codemirror_mode": {
    "name": "ipython",
    "version": 3
   },
   "file_extension": ".py",
   "mimetype": "text/x-python",
   "name": "python",
   "nbconvert_exporter": "python",
   "pygments_lexer": "ipython3",
   "version": "3.9.13"
  }
 },
 "nbformat": 4,
 "nbformat_minor": 5
}
